{
 "cells": [
  {
   "cell_type": "code",
   "execution_count": 25,
   "metadata": {},
   "outputs": [],
   "source": [
    "import pandas as pd\n",
    "import matplotlib.pyplot as plt\n",
    "import pm4py\n",
    "import numpy as np\n",
    "import datetime\n",
    "pd.set_option(\"display.max_rows\", None)\n",
    "from collections import Counter\n",
    "import operator\n",
    "import pickle"
   ]
  },
  {
   "cell_type": "code",
   "execution_count": 2,
   "metadata": {},
   "outputs": [
    {
     "data": {
      "application/vnd.jupyter.widget-view+json": {
       "model_id": "0eeee3b8d50a4a84bb35c0509b2d9f18",
       "version_major": 2,
       "version_minor": 0
      },
      "text/plain": [
       "HBox(children=(HTML(value='parsing log, completed traces :: '), FloatProgress(value=0.0, max=13087.0), HTML(va…"
      ]
     },
     "metadata": {},
     "output_type": "display_data"
    },
    {
     "name": "stdout",
     "output_type": "stream",
     "text": [
      "\n"
     ]
    }
   ],
   "source": [
    "log = pm4py.read_xes('./BPI_Challenge_2012.xes.gz')\n",
    "df = pm4py.convert_to_dataframe(log)"
   ]
  },
  {
   "cell_type": "code",
   "execution_count": 3,
   "metadata": {},
   "outputs": [
    {
     "name": "stdout",
     "output_type": "stream",
     "text": [
      "DataFrame size: 262200\n",
      "DataFrame without nulls size: 244190\n"
     ]
    }
   ],
   "source": [
    "print('DataFrame size: {}'.format(len(df)))\n",
    "print('DataFrame without nulls size: {}'.format(len(df.dropna())))"
   ]
  },
  {
   "cell_type": "code",
   "execution_count": 4,
   "metadata": {
    "scrolled": true
   },
   "outputs": [
    {
     "data": {
      "text/html": [
       "<div>\n",
       "<style scoped>\n",
       "    .dataframe tbody tr th:only-of-type {\n",
       "        vertical-align: middle;\n",
       "    }\n",
       "\n",
       "    .dataframe tbody tr th {\n",
       "        vertical-align: top;\n",
       "    }\n",
       "\n",
       "    .dataframe thead th {\n",
       "        text-align: right;\n",
       "    }\n",
       "</style>\n",
       "<table border=\"1\" class=\"dataframe\">\n",
       "  <thead>\n",
       "    <tr style=\"text-align: right;\">\n",
       "      <th></th>\n",
       "      <th>org:resource</th>\n",
       "      <th>lifecycle:transition</th>\n",
       "      <th>concept:name</th>\n",
       "      <th>time:timestamp</th>\n",
       "      <th>case:REG_DATE</th>\n",
       "      <th>case:concept:name</th>\n",
       "      <th>case:AMOUNT_REQ</th>\n",
       "    </tr>\n",
       "  </thead>\n",
       "  <tbody>\n",
       "    <tr>\n",
       "      <th>count</th>\n",
       "      <td>244190</td>\n",
       "      <td>244190</td>\n",
       "      <td>244190</td>\n",
       "      <td>244190</td>\n",
       "      <td>244190</td>\n",
       "      <td>244190</td>\n",
       "      <td>244190</td>\n",
       "    </tr>\n",
       "    <tr>\n",
       "      <th>unique</th>\n",
       "      <td>68</td>\n",
       "      <td>3</td>\n",
       "      <td>24</td>\n",
       "      <td>230197</td>\n",
       "      <td>13087</td>\n",
       "      <td>13087</td>\n",
       "      <td>631</td>\n",
       "    </tr>\n",
       "    <tr>\n",
       "      <th>top</th>\n",
       "      <td>112</td>\n",
       "      <td>COMPLETE</td>\n",
       "      <td>W_Completeren aanvraag</td>\n",
       "      <td>2012-01-17 10:11:21.961000+01:00</td>\n",
       "      <td>2011-12-22 21:51:37.590000+01:00</td>\n",
       "      <td>195247</td>\n",
       "      <td>5000</td>\n",
       "    </tr>\n",
       "    <tr>\n",
       "      <th>freq</th>\n",
       "      <td>45687</td>\n",
       "      <td>156364</td>\n",
       "      <td>48372</td>\n",
       "      <td>4</td>\n",
       "      <td>168</td>\n",
       "      <td>168</td>\n",
       "      <td>30855</td>\n",
       "    </tr>\n",
       "  </tbody>\n",
       "</table>\n",
       "</div>"
      ],
      "text/plain": [
       "       org:resource lifecycle:transition            concept:name  \\\n",
       "count        244190               244190                  244190   \n",
       "unique           68                    3                      24   \n",
       "top             112             COMPLETE  W_Completeren aanvraag   \n",
       "freq          45687               156364                   48372   \n",
       "\n",
       "                          time:timestamp                     case:REG_DATE  \\\n",
       "count                             244190                            244190   \n",
       "unique                            230197                             13087   \n",
       "top     2012-01-17 10:11:21.961000+01:00  2011-12-22 21:51:37.590000+01:00   \n",
       "freq                                   4                               168   \n",
       "\n",
       "       case:concept:name case:AMOUNT_REQ  \n",
       "count             244190          244190  \n",
       "unique             13087             631  \n",
       "top               195247            5000  \n",
       "freq                 168           30855  "
      ]
     },
     "execution_count": 4,
     "metadata": {},
     "output_type": "execute_result"
    }
   ],
   "source": [
    "df.dropna(inplace=True)\n",
    "df.describe()"
   ]
  },
  {
   "cell_type": "code",
   "execution_count": 5,
   "metadata": {},
   "outputs": [
    {
     "name": "stdout",
     "output_type": "stream",
     "text": [
      "Counter({'A_SUBMITTED': 13087})\n"
     ]
    }
   ],
   "source": [
    "case = 'blib'\n",
    "first_item = []\n",
    "for index, row in df.iterrows():\n",
    "    if case != row['case:concept:name']:\n",
    "        case = row['case:concept:name']\n",
    "        task = row['concept:name']\n",
    "        first_item.append(task)\n",
    "print(Counter(first_item))"
   ]
  },
  {
   "cell_type": "code",
   "execution_count": 6,
   "metadata": {},
   "outputs": [
    {
     "data": {
      "text/plain": [
       "Counter({'A_SUBMITTED': 13087})"
      ]
     },
     "execution_count": 6,
     "metadata": {},
     "output_type": "execute_result"
    }
   ],
   "source": [
    "Counter(first_item)"
   ]
  },
  {
   "cell_type": "code",
   "execution_count": 7,
   "metadata": {},
   "outputs": [],
   "source": [
    "\n",
    "def nth_most_common(w, n):\n",
    "    sort = dict(sorted(Counter(w).items(), key=lambda item: item[1]))\n",
    "    return str(list(sort)[-n])"
   ]
  },
  {
   "cell_type": "code",
   "execution_count": 13,
   "metadata": {},
   "outputs": [],
   "source": [
    "def get_max(task):\n",
    "    previous = 'blibs'\n",
    "    empty = []\n",
    "    case = 'blib'\n",
    "    for index, row in df.iterrows():\n",
    "        t = row['concept:name']\n",
    "        c = row['case:concept:name']\n",
    "        if (case == c) & (previous == task):\n",
    "            empty.append(t)\n",
    "        case = c\n",
    "        previous = t\n",
    "    return nth_most_common(empty, 1)\n"
   ]
  },
  {
   "cell_type": "code",
   "execution_count": 15,
   "metadata": {},
   "outputs": [
    {
     "data": {
      "text/plain": [
       "'O_SELECTED'"
      ]
     },
     "execution_count": 15,
     "metadata": {},
     "output_type": "execute_result"
    }
   ],
   "source": [
    "get_max('A_ACCEPTED')"
   ]
  },
  {
   "cell_type": "code",
   "execution_count": 18,
   "metadata": {},
   "outputs": [],
   "source": [
    "caselist = list(df['concept:name'].unique())"
   ]
  },
  {
   "cell_type": "code",
   "execution_count": 21,
   "metadata": {},
   "outputs": [],
   "source": [
    "a = {}\n",
    "for value in caselist:\n",
    "    a[value] = get_max(value)"
   ]
  },
  {
   "cell_type": "code",
   "execution_count": 22,
   "metadata": {},
   "outputs": [
    {
     "data": {
      "text/plain": [
       "{'A_SUBMITTED': 'A_PARTLYSUBMITTED',\n",
       " 'A_PARTLYSUBMITTED': 'A_PREACCEPTED',\n",
       " 'A_PREACCEPTED': 'W_Completeren aanvraag',\n",
       " 'W_Completeren aanvraag': 'W_Completeren aanvraag',\n",
       " 'A_ACCEPTED': 'O_SELECTED',\n",
       " 'O_SELECTED': 'O_CREATED',\n",
       " 'A_FINALIZED': 'O_CREATED',\n",
       " 'O_CREATED': 'O_SENT',\n",
       " 'O_SENT': 'W_Nabellen offertes',\n",
       " 'W_Nabellen offertes': 'W_Nabellen offertes',\n",
       " 'O_SENT_BACK': 'W_Valideren aanvraag',\n",
       " 'W_Valideren aanvraag': 'W_Valideren aanvraag',\n",
       " 'A_REGISTERED': 'A_ACTIVATED',\n",
       " 'A_APPROVED': 'A_ACTIVATED',\n",
       " 'O_ACCEPTED': 'A_REGISTERED',\n",
       " 'A_ACTIVATED': 'W_Valideren aanvraag',\n",
       " 'O_CANCELLED': 'O_SELECTED',\n",
       " 'W_Wijzigen contractgegevens': 'W_Wijzigen contractgegevens',\n",
       " 'A_DECLINED': 'W_Afhandelen leads',\n",
       " 'A_CANCELLED': 'O_CANCELLED',\n",
       " 'W_Afhandelen leads': 'W_Afhandelen leads',\n",
       " 'O_DECLINED': 'A_DECLINED',\n",
       " 'W_Nabellen incomplete dossiers': 'W_Nabellen incomplete dossiers',\n",
       " 'W_Beoordelen fraude': 'W_Beoordelen fraude'}"
      ]
     },
     "execution_count": 22,
     "metadata": {},
     "output_type": "execute_result"
    }
   ],
   "source": [
    "a"
   ]
  },
  {
   "cell_type": "code",
   "execution_count": 26,
   "metadata": {},
   "outputs": [],
   "source": [
    "with open('next_common_event.pkl', 'wb') as f:\n",
    "    pickle.dump(a, f)"
   ]
  },
  {
   "cell_type": "code",
   "execution_count": 27,
   "metadata": {},
   "outputs": [],
   "source": [
    "with open('next_common_event.pkl', 'rb') as f:\n",
    "    loaded_dict = pickle.load(f)"
   ]
  },
  {
   "cell_type": "code",
   "execution_count": 28,
   "metadata": {},
   "outputs": [
    {
     "data": {
      "text/plain": [
       "{'A_SUBMITTED': 'A_PARTLYSUBMITTED',\n",
       " 'A_PARTLYSUBMITTED': 'A_PREACCEPTED',\n",
       " 'A_PREACCEPTED': 'W_Completeren aanvraag',\n",
       " 'W_Completeren aanvraag': 'W_Completeren aanvraag',\n",
       " 'A_ACCEPTED': 'O_SELECTED',\n",
       " 'O_SELECTED': 'O_CREATED',\n",
       " 'A_FINALIZED': 'O_CREATED',\n",
       " 'O_CREATED': 'O_SENT',\n",
       " 'O_SENT': 'W_Nabellen offertes',\n",
       " 'W_Nabellen offertes': 'W_Nabellen offertes',\n",
       " 'O_SENT_BACK': 'W_Valideren aanvraag',\n",
       " 'W_Valideren aanvraag': 'W_Valideren aanvraag',\n",
       " 'A_REGISTERED': 'A_ACTIVATED',\n",
       " 'A_APPROVED': 'A_ACTIVATED',\n",
       " 'O_ACCEPTED': 'A_REGISTERED',\n",
       " 'A_ACTIVATED': 'W_Valideren aanvraag',\n",
       " 'O_CANCELLED': 'O_SELECTED',\n",
       " 'W_Wijzigen contractgegevens': 'W_Wijzigen contractgegevens',\n",
       " 'A_DECLINED': 'W_Afhandelen leads',\n",
       " 'A_CANCELLED': 'O_CANCELLED',\n",
       " 'W_Afhandelen leads': 'W_Afhandelen leads',\n",
       " 'O_DECLINED': 'A_DECLINED',\n",
       " 'W_Nabellen incomplete dossiers': 'W_Nabellen incomplete dossiers',\n",
       " 'W_Beoordelen fraude': 'W_Beoordelen fraude'}"
      ]
     },
     "execution_count": 28,
     "metadata": {},
     "output_type": "execute_result"
    }
   ],
   "source": [
    "loaded_dict"
   ]
  },
  {
   "cell_type": "code",
   "execution_count": null,
   "metadata": {},
   "outputs": [],
   "source": []
  }
 ],
 "metadata": {
  "interpreter": {
   "hash": "54e90448c27e76c7f4df0a833daefb0a1549e26c03ed83ace35a855b38633a16"
  },
  "kernelspec": {
   "display_name": "Python 3",
   "language": "python",
   "name": "python3"
  },
  "language_info": {
   "codemirror_mode": {
    "name": "ipython",
    "version": 3
   },
   "file_extension": ".py",
   "mimetype": "text/x-python",
   "name": "python",
   "nbconvert_exporter": "python",
   "pygments_lexer": "ipython3",
   "version": "3.8.5"
  }
 },
 "nbformat": 4,
 "nbformat_minor": 2
}
