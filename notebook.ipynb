{
 "cells": [
  {
   "cell_type": "code",
   "execution_count": 1,
   "metadata": {},
   "outputs": [],
   "source": [
    "import pandas as pd\n",
    "import matplotlib.pyplot as plt\n",
    "import pm4py\n",
    "import numpy as np\n",
    "import datetime"
   ]
  },
  {
   "cell_type": "code",
   "execution_count": 3,
   "metadata": {},
   "outputs": [
    {
     "name": "stderr",
     "output_type": "stream",
     "text": [
      "parsing log, completed traces :: 100%|██████████| 13087/13087 [00:21<00:00, 600.52it/s]\n"
     ]
    }
   ],
   "source": [
    "log = pm4py.read_xes('./BPI_Challenge_2012.xes.gz')\n",
    "df = pm4py.convert_to_dataframe(log)"
   ]
  },
  {
   "cell_type": "code",
   "execution_count": 4,
   "metadata": {},
   "outputs": [
    {
     "data": {
      "text/plain": [
       "['org:resource',\n",
       " 'lifecycle:transition',\n",
       " 'concept:name',\n",
       " 'time:timestamp',\n",
       " 'case:REG_DATE',\n",
       " 'case:concept:name',\n",
       " 'case:AMOUNT_REQ']"
      ]
     },
     "execution_count": 4,
     "metadata": {},
     "output_type": "execute_result"
    }
   ],
   "source": [
    "df.columns.tolist()"
   ]
  },
  {
   "cell_type": "code",
   "execution_count": 5,
   "metadata": {},
   "outputs": [
    {
     "name": "stdout",
     "output_type": "stream",
     "text": [
      "DataFrame size: 262200\n",
      "DataFrame without nulls size: 244190\n"
     ]
    }
   ],
   "source": [
    "print('DataFrame size: {}'.format(len(df)))\n",
    "print('DataFrame without nulls size: {}'.format(len(df.dropna())))"
   ]
  },
  {
   "cell_type": "code",
   "execution_count": 6,
   "metadata": {},
   "outputs": [
    {
     "data": {
      "text/html": [
       "<div>\n",
       "<style scoped>\n",
       "    .dataframe tbody tr th:only-of-type {\n",
       "        vertical-align: middle;\n",
       "    }\n",
       "\n",
       "    .dataframe tbody tr th {\n",
       "        vertical-align: top;\n",
       "    }\n",
       "\n",
       "    .dataframe thead th {\n",
       "        text-align: right;\n",
       "    }\n",
       "</style>\n",
       "<table border=\"1\" class=\"dataframe\">\n",
       "  <thead>\n",
       "    <tr style=\"text-align: right;\">\n",
       "      <th></th>\n",
       "      <th>org:resource</th>\n",
       "      <th>lifecycle:transition</th>\n",
       "      <th>concept:name</th>\n",
       "      <th>time:timestamp</th>\n",
       "      <th>case:REG_DATE</th>\n",
       "      <th>case:concept:name</th>\n",
       "      <th>case:AMOUNT_REQ</th>\n",
       "    </tr>\n",
       "  </thead>\n",
       "  <tbody>\n",
       "    <tr>\n",
       "      <th>count</th>\n",
       "      <td>244190</td>\n",
       "      <td>262200</td>\n",
       "      <td>262200</td>\n",
       "      <td>262200</td>\n",
       "      <td>262200</td>\n",
       "      <td>262200</td>\n",
       "      <td>262200</td>\n",
       "    </tr>\n",
       "    <tr>\n",
       "      <th>unique</th>\n",
       "      <td>68</td>\n",
       "      <td>3</td>\n",
       "      <td>24</td>\n",
       "      <td>248189</td>\n",
       "      <td>13087</td>\n",
       "      <td>13087</td>\n",
       "      <td>631</td>\n",
       "    </tr>\n",
       "    <tr>\n",
       "      <th>top</th>\n",
       "      <td>112</td>\n",
       "      <td>COMPLETE</td>\n",
       "      <td>W_Completeren aanvraag</td>\n",
       "      <td>2012-01-05 10:01:25.057000+01:00</td>\n",
       "      <td>2011-11-15 13:42:45.592000+01:00</td>\n",
       "      <td>185548</td>\n",
       "      <td>5000</td>\n",
       "    </tr>\n",
       "    <tr>\n",
       "      <th>freq</th>\n",
       "      <td>45687</td>\n",
       "      <td>164506</td>\n",
       "      <td>54850</td>\n",
       "      <td>4</td>\n",
       "      <td>175</td>\n",
       "      <td>175</td>\n",
       "      <td>32988</td>\n",
       "    </tr>\n",
       "  </tbody>\n",
       "</table>\n",
       "</div>"
      ],
      "text/plain": [
       "       org:resource lifecycle:transition            concept:name  \\\n",
       "count        244190               262200                  262200   \n",
       "unique           68                    3                      24   \n",
       "top             112             COMPLETE  W_Completeren aanvraag   \n",
       "freq          45687               164506                   54850   \n",
       "\n",
       "                          time:timestamp                     case:REG_DATE  \\\n",
       "count                             262200                            262200   \n",
       "unique                            248189                             13087   \n",
       "top     2012-01-05 10:01:25.057000+01:00  2011-11-15 13:42:45.592000+01:00   \n",
       "freq                                   4                               175   \n",
       "\n",
       "       case:concept:name case:AMOUNT_REQ  \n",
       "count             262200          262200  \n",
       "unique             13087             631  \n",
       "top               185548            5000  \n",
       "freq                 175           32988  "
      ]
     },
     "execution_count": 6,
     "metadata": {},
     "output_type": "execute_result"
    }
   ],
   "source": [
    "df.describe()"
   ]
  },
  {
   "cell_type": "code",
   "execution_count": 7,
   "metadata": {},
   "outputs": [
    {
     "data": {
      "text/html": [
       "<div>\n",
       "<style scoped>\n",
       "    .dataframe tbody tr th:only-of-type {\n",
       "        vertical-align: middle;\n",
       "    }\n",
       "\n",
       "    .dataframe tbody tr th {\n",
       "        vertical-align: top;\n",
       "    }\n",
       "\n",
       "    .dataframe thead th {\n",
       "        text-align: right;\n",
       "    }\n",
       "</style>\n",
       "<table border=\"1\" class=\"dataframe\">\n",
       "  <thead>\n",
       "    <tr style=\"text-align: right;\">\n",
       "      <th></th>\n",
       "      <th>time:timestamp</th>\n",
       "      <th>concept:name</th>\n",
       "      <th>case:concept:name</th>\n",
       "    </tr>\n",
       "  </thead>\n",
       "  <tbody>\n",
       "    <tr>\n",
       "      <th>count</th>\n",
       "      <td>262200</td>\n",
       "      <td>262200</td>\n",
       "      <td>262200</td>\n",
       "    </tr>\n",
       "    <tr>\n",
       "      <th>unique</th>\n",
       "      <td>248189</td>\n",
       "      <td>24</td>\n",
       "      <td>13087</td>\n",
       "    </tr>\n",
       "    <tr>\n",
       "      <th>top</th>\n",
       "      <td>2012-01-05 10:01:25.057000+01:00</td>\n",
       "      <td>W_Completeren aanvraag</td>\n",
       "      <td>185548</td>\n",
       "    </tr>\n",
       "    <tr>\n",
       "      <th>freq</th>\n",
       "      <td>4</td>\n",
       "      <td>54850</td>\n",
       "      <td>175</td>\n",
       "    </tr>\n",
       "  </tbody>\n",
       "</table>\n",
       "</div>"
      ],
      "text/plain": [
       "                          time:timestamp            concept:name  \\\n",
       "count                             262200                  262200   \n",
       "unique                            248189                      24   \n",
       "top     2012-01-05 10:01:25.057000+01:00  W_Completeren aanvraag   \n",
       "freq                                   4                   54850   \n",
       "\n",
       "       case:concept:name  \n",
       "count             262200  \n",
       "unique             13087  \n",
       "top               185548  \n",
       "freq                 175  "
      ]
     },
     "execution_count": 7,
     "metadata": {},
     "output_type": "execute_result"
    }
   ],
   "source": [
    "df_time_event = df[['time:timestamp', 'concept:name', 'case:concept:name']]\n",
    "\n",
    "df_time_event.describe()"
   ]
  },
  {
   "cell_type": "code",
   "execution_count": 8,
   "metadata": {},
   "outputs": [
    {
     "data": {
      "image/png": "[encoded data removed]",
      "text/plain": [
       "<Figure size 720x504 with 1 Axes>"
      ]
     },
     "metadata": {
      "needs_background": "light"
     },
     "output_type": "display_data"
    }
   ],
   "source": [
    "counts = df_time_event.sort_values(by='concept:name', ascending=False).groupby(by='concept:name')['concept:name'].count()\n",
    "plt.title('Frequency of event types\\n', fontdict={'fontsize': 24});\n",
    "counts.plot.barh(figsize=(10, 7));"
   ]
  }
 ],
 "metadata": {
  "interpreter": {
   "hash": "54e90448c27e76c7f4df0a833daefb0a1549e26c03ed83ace35a855b38633a16"
  },
  "kernelspec": {
   "display_name": "Python 3.10.2 64-bit",
   "language": "python",
   "name": "python3"
  },
  "language_info": {
   "codemirror_mode": {
    "name": "ipython",
    "version": 3
   },
   "file_extension": ".py",
   "mimetype": "text/x-python",
   "name": "python",
   "nbconvert_exporter": "python",
   "pygments_lexer": "ipython3",
   "version": "3.10.2"
  },
  "orig_nbformat": 4
 },
 "nbformat": 4,
 "nbformat_minor": 2
}
