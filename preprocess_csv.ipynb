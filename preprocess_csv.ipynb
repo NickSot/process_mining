{
 "cells": [
  {
   "cell_type": "markdown",
   "metadata": {},
   "source": [
    "## This file preprocesses the *csv* files into the correct format with regards to datetimes"
   ]
  },
  {
   "cell_type": "code",
   "execution_count": 2,
   "metadata": {},
   "outputs": [],
   "source": [
    "import pandas as pd\n",
    "import numpy as np"
   ]
  },
  {
   "cell_type": "code",
   "execution_count": 3,
   "metadata": {},
   "outputs": [],
   "source": [
    "df_training = pd.read_csv('BPI_Challenge_2012-training.csv')\n",
    "df_test = pd.read_csv('BPI_Challenge_2012-test.csv')"
   ]
  },
  {
   "cell_type": "code",
   "execution_count": 28,
   "metadata": {},
   "outputs": [
    {
     "data": {
      "text/plain": [
       "214377"
      ]
     },
     "execution_count": 28,
     "metadata": {},
     "output_type": "execute_result"
    }
   ],
   "source": [
    "len(df_training)"
   ]
  },
  {
   "cell_type": "code",
   "execution_count": 27,
   "metadata": {},
   "outputs": [
    {
     "data": {
      "text/plain": [
       "47823"
      ]
     },
     "execution_count": 27,
     "metadata": {},
     "output_type": "execute_result"
    }
   ],
   "source": [
    "len(df_test)"
   ]
  },
  {
   "cell_type": "code",
   "execution_count": 5,
   "metadata": {},
   "outputs": [
    {
     "data": {
      "text/plain": [
       "Index(['eventID ', 'case concept:name', 'case REG_DATE', 'case AMOUNT_REQ',\n",
       "       'event concept:name', 'event lifecycle:transition',\n",
       "       'event time:timestamp'],\n",
       "      dtype='object')"
      ]
     },
     "execution_count": 5,
     "metadata": {},
     "output_type": "execute_result"
    }
   ],
   "source": [
    "df_training.columns"
   ]
  },
  {
   "cell_type": "code",
   "execution_count": 4,
   "metadata": {},
   "outputs": [
    {
     "data": {
      "text/html": [
       "<div>\n",
       "<style scoped>\n",
       "    .dataframe tbody tr th:only-of-type {\n",
       "        vertical-align: middle;\n",
       "    }\n",
       "\n",
       "    .dataframe tbody tr th {\n",
       "        vertical-align: top;\n",
       "    }\n",
       "\n",
       "    .dataframe thead th {\n",
       "        text-align: right;\n",
       "    }\n",
       "</style>\n",
       "<table border=\"1\" class=\"dataframe\">\n",
       "  <thead>\n",
       "    <tr style=\"text-align: right;\">\n",
       "      <th></th>\n",
       "      <th>eventID</th>\n",
       "      <th>case concept:name</th>\n",
       "      <th>case AMOUNT_REQ</th>\n",
       "    </tr>\n",
       "  </thead>\n",
       "  <tbody>\n",
       "    <tr>\n",
       "      <th>count</th>\n",
       "      <td>2.143770e+05</td>\n",
       "      <td>214377.000000</td>\n",
       "      <td>214377.000000</td>\n",
       "    </tr>\n",
       "    <tr>\n",
       "      <th>mean</th>\n",
       "      <td>2.268239e+13</td>\n",
       "      <td>190155.106742</td>\n",
       "      <td>15349.297327</td>\n",
       "    </tr>\n",
       "    <tr>\n",
       "      <th>std</th>\n",
       "      <td>1.324009e+13</td>\n",
       "      <td>9592.111876</td>\n",
       "      <td>12179.774398</td>\n",
       "    </tr>\n",
       "    <tr>\n",
       "      <th>min</th>\n",
       "      <td>0.000000e+00</td>\n",
       "      <td>173688.000000</td>\n",
       "      <td>0.000000</td>\n",
       "    </tr>\n",
       "    <tr>\n",
       "      <th>25%</th>\n",
       "      <td>1.090922e+13</td>\n",
       "      <td>181658.000000</td>\n",
       "      <td>6500.000000</td>\n",
       "    </tr>\n",
       "    <tr>\n",
       "      <th>50%</th>\n",
       "      <td>2.328302e+13</td>\n",
       "      <td>190591.000000</td>\n",
       "      <td>10300.000000</td>\n",
       "    </tr>\n",
       "    <tr>\n",
       "      <th>75%</th>\n",
       "      <td>3.404191e+13</td>\n",
       "      <td>198373.000000</td>\n",
       "      <td>20000.000000</td>\n",
       "    </tr>\n",
       "    <tr>\n",
       "      <th>max</th>\n",
       "      <td>4.495972e+13</td>\n",
       "      <td>206321.000000</td>\n",
       "      <td>99999.000000</td>\n",
       "    </tr>\n",
       "  </tbody>\n",
       "</table>\n",
       "</div>"
      ],
      "text/plain": [
       "           eventID   case concept:name  case AMOUNT_REQ\n",
       "count  2.143770e+05      214377.000000    214377.000000\n",
       "mean   2.268239e+13      190155.106742     15349.297327\n",
       "std    1.324009e+13        9592.111876     12179.774398\n",
       "min    0.000000e+00      173688.000000         0.000000\n",
       "25%    1.090922e+13      181658.000000      6500.000000\n",
       "50%    2.328302e+13      190591.000000     10300.000000\n",
       "75%    3.404191e+13      198373.000000     20000.000000\n",
       "max    4.495972e+13      206321.000000     99999.000000"
      ]
     },
     "execution_count": 4,
     "metadata": {},
     "output_type": "execute_result"
    }
   ],
   "source": [
    "df_training.describe()"
   ]
  },
  {
   "cell_type": "code",
   "execution_count": 19,
   "metadata": {},
   "outputs": [],
   "source": [
    "#return the float value of a timestamp to facilitate comparison and arithmetic operations\n",
    "\n",
    "def datetime_to_float(d):\n",
    "    return d.timestamp()\n",
    "\n",
    "#get the timestamp from the float\n",
    "def float_to_datetime(fl):\n",
    "    return datetime.datetime.fromtimestamp(fl)"
   ]
  },
  {
   "cell_type": "code",
   "execution_count": 67,
   "metadata": {},
   "outputs": [],
   "source": [
    "# 01-01-2012 02:31:02.480\n",
    "df_training['event time:timestamp'] = pd.to_datetime(df_training['event time:timestamp'])\n",
    "df_training['case REG_DATE'] = pd.to_datetime(df_training['case REG_DATE'])"
   ]
  },
  {
   "cell_type": "code",
   "execution_count": 69,
   "metadata": {},
   "outputs": [],
   "source": [
    "df_test['event time:timestamp'] = pd.to_datetime(df_test['event time:timestamp'])\n",
    "df_test['case REG_DATE'] = pd.to_datetime(df_test['case REG_DATE'])"
   ]
  },
  {
   "cell_type": "code",
   "execution_count": 70,
   "metadata": {},
   "outputs": [
    {
     "data": {
      "text/plain": [
       "pandas._libs.tslibs.timestamps.Timestamp"
      ]
     },
     "execution_count": 70,
     "metadata": {},
     "output_type": "execute_result"
    }
   ],
   "source": [
    "type(df_test.loc[0, 'event time:timestamp'])"
   ]
  },
  {
   "cell_type": "code",
   "execution_count": 55,
   "metadata": {},
   "outputs": [
    {
     "data": {
      "text/plain": [
       "pandas._libs.tslibs.timestamps.Timestamp"
      ]
     },
     "execution_count": 55,
     "metadata": {},
     "output_type": "execute_result"
    }
   ],
   "source": [
    "type(df_training.loc[0, 'event time:timestamp'])"
   ]
  },
  {
   "cell_type": "code",
   "execution_count": 71,
   "metadata": {},
   "outputs": [],
   "source": [
    "time_column = 'event time:timestamp'"
   ]
  },
  {
   "cell_type": "code",
   "execution_count": 72,
   "metadata": {},
   "outputs": [],
   "source": [
    "df_training.sort_values(by=time_column, inplace=True, ascending=True)\n",
    "df_test.sort_values(by=time_column, inplace=True, ascending=True)\n",
    "\n",
    "for i in range(len(df_test)):\n",
    "    for j in range(len(df_training)):\n",
    "        if (df_test.iloc[i][time_column] < df_training.iloc[j][time_column]):\n",
    "            row = df_training.iloc[j]\n",
    "            df_test.append(row)\n",
    "            df_training.drop([j])\n",
    "        else:\n",
    "            break"
   ]
  },
  {
   "cell_type": "code",
   "execution_count": 73,
   "metadata": {},
   "outputs": [],
   "source": [
    "df_training.drop_duplicates(inplace=True)\n",
    "df_training.dropna(inplace=True)\n",
    "\n",
    "df_test.drop_duplicates(inplace=True)\n",
    "df_test.dropna(inplace=True)"
   ]
  },
  {
   "cell_type": "code",
   "execution_count": 74,
   "metadata": {},
   "outputs": [
    {
     "data": {
      "text/plain": [
       "214377"
      ]
     },
     "execution_count": 74,
     "metadata": {},
     "output_type": "execute_result"
    }
   ],
   "source": [
    "len(df_training)"
   ]
  },
  {
   "cell_type": "code",
   "execution_count": 75,
   "metadata": {},
   "outputs": [
    {
     "data": {
      "text/plain": [
       "47823"
      ]
     },
     "execution_count": 75,
     "metadata": {},
     "output_type": "execute_result"
    }
   ],
   "source": [
    "len(df_test)"
   ]
  },
  {
   "cell_type": "markdown",
   "metadata": {},
   "source": [
    "### The training dataset contains all datetimes sorted, and the test dataset contains datetimes bigger than all training datetimes"
   ]
  },
  {
   "cell_type": "code",
   "execution_count": 63,
   "metadata": {},
   "outputs": [],
   "source": [
    "df_training.to_csv('bpi_2012_train.csv')\n",
    "df_test.to_csv('bpi_2012_test.csv')"
   ]
  }
 ],
 "metadata": {
  "interpreter": {
   "hash": "54e90448c27e76c7f4df0a833daefb0a1549e26c03ed83ace35a855b38633a16"
  },
  "kernelspec": {
   "display_name": "Python 3.10.2 64-bit",
   "language": "python",
   "name": "python3"
  },
  "language_info": {
   "codemirror_mode": {
    "name": "ipython",
    "version": 3
   },
   "file_extension": ".py",
   "mimetype": "text/x-python",
   "name": "python",
   "nbconvert_exporter": "python",
   "pygments_lexer": "ipython3",
   "version": "3.10.2"
  },
  "orig_nbformat": 4
 },
 "nbformat": 4,
 "nbformat_minor": 2
}
