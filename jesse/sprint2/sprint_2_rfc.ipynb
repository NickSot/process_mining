{
 "cells": [
  {
   "cell_type": "markdown",
   "metadata": {},
   "source": [
    "# Random Forest (Classification)\n",
    "This document is applying the Random Forest model for classification on the `train` and `test` datasets."
   ]
  },
  {
   "cell_type": "code",
   "execution_count": 1,
   "metadata": {},
   "outputs": [],
   "source": [
    "# Setup\n",
    "import numpy as np\n",
    "import pandas as pd\n",
    "import time\n",
    "from sklearn.metrics import accuracy_score\n",
    "from random_forest import RandomForestClassifier\n"
   ]
  },
  {
   "cell_type": "markdown",
   "metadata": {},
   "source": [
    "# Config variables\n",
    "Initializing variables for configuration and tuning, defining the amount of samples to take from the dataset, the amount of trees in the forest, the datasets, etc."
   ]
  },
  {
   "cell_type": "code",
   "execution_count": 2,
   "metadata": {},
   "outputs": [],
   "source": [
    "# Config variables\n",
    "training_data_path = '../train.csv'\n",
    "testing_data_path = '../test.csv'\n",
    "\n",
    "n_samples = 1000\n",
    "n_trees = 3\n",
    "sample_split = 3\n",
    "max_depth = 3"
   ]
  },
  {
   "cell_type": "markdown",
   "metadata": {},
   "source": [
    "# Loading the data"
   ]
  },
  {
   "cell_type": "code",
   "execution_count": 3,
   "metadata": {},
   "outputs": [],
   "source": [
    "# Loading and splitting the datasets\n",
    "df_train = pd.read_csv(training_data_path)\n",
    "df_train = df_train[['case', 'startTime', 'completeTime', 'AMOUNT_REQ', 'REG_DATE', 'org:resource', 'event']][0:n_samples]\n",
    "\n",
    "df_test = pd.read_csv(testing_data_path)\n",
    "df_test = df_test[['case', 'startTime', 'completeTime', 'AMOUNT_REQ', 'REG_DATE', 'org:resource', 'event']][0:n_samples]\n"
   ]
  },
  {
   "cell_type": "code",
   "execution_count": 4,
   "metadata": {},
   "outputs": [
    {
     "name": "stdout",
     "output_type": "stream",
     "text": [
      "\n",
      "0: Building tree...\n",
      "0: Sampling complete!\n",
      "0: Training complete!\n",
      "W_Nabellen offertes\n",
      "\n",
      "1: Building tree...\n",
      "1: Sampling complete!\n",
      "1: Training complete!\n",
      "W_Nabellen offertes\n",
      "\n",
      "2: Building tree...\n",
      "2: Sampling complete!\n",
      "2: Training complete!\n",
      "A_PARTLYSUBMITTED\n",
      "\n",
      "The majority vote concluded:\n",
      "                     0\n",
      "0  W_Nabellen offertes\n",
      "1  W_Nabellen offertes\n",
      "2  W_Nabellen offertes\n",
      "3  W_Nabellen offertes\n",
      "4  W_Nabellen offertes\n",
      "Accuracy score: 0.126\n",
      "\n",
      "The execution of Random Forest took 14 seconds\n"
     ]
    }
   ],
   "source": [
    "# Starting time\n",
    "start_time = time.time()\n",
    "\n",
    "X_train = df_train.drop(['event'], axis=1).values\n",
    "Y_train = df_train['event'].values.reshape(-1, 1)\n",
    "X_test = df_test.drop(['event'], axis=1).values\n",
    "Y_test = df_test['event'].values.reshape(-1, 1)\n",
    "\n",
    "# Constructing and fitting the model\n",
    "classifier = RandomForestClassifier(n_trees=n_trees, min_samples_split=sample_split, max_depth=max_depth)\n",
    "classifier.fit(X_train, Y_train)\n",
    "\n",
    "# Predicting the values of our test dataset\n",
    "Y_pred = classifier.predict(X_test)\n",
    "accuracy = accuracy_score(Y_test, Y_pred)\n",
    "\n",
    "# Retrieving the accuracy of the model\n",
    "print(f'Accuracy score: {accuracy}')\n",
    "\n",
    "# Ending time\n",
    "end_time = time.time()\n",
    "print(f'\\r\\nThe execution of Random Forest took {round(end_time - start_time)} seconds')"
   ]
  }
 ],
 "metadata": {
  "interpreter": {
   "hash": "d2ce483584a882ab0d75ff9a0d6636d89dc78737b0f0735b1fee6256ed14a010"
  },
  "kernelspec": {
   "display_name": "Python 3.7.9 64-bit",
   "language": "python",
   "name": "python3"
  },
  "language_info": {
   "codemirror_mode": {
    "name": "ipython",
    "version": 3
   },
   "file_extension": ".py",
   "mimetype": "text/x-python",
   "name": "python",
   "nbconvert_exporter": "python",
   "pygments_lexer": "ipython3",
   "version": "3.7.9"
  },
  "orig_nbformat": 4
 },
 "nbformat": 4,
 "nbformat_minor": 2
}
