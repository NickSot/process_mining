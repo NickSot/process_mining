{
 "cells": [
  {
   "cell_type": "markdown",
   "metadata": {},
   "source": [
    "# Import tools"
   ]
  },
  {
   "cell_type": "code",
   "execution_count": 57,
   "metadata": {},
   "outputs": [],
   "source": [
    "import numpy as np\n",
    "import pandas as pd\n",
    "from decision_tree import DecisionTreeClassifier, DecisionTreeRegressor\n",
    "\n",
    "import datetime\n",
    "import dateutil.parser"
   ]
  },
  {
   "cell_type": "markdown",
   "metadata": {},
   "source": [
    "# Config variables"
   ]
  },
  {
   "cell_type": "code",
   "execution_count": 58,
   "metadata": {},
   "outputs": [],
   "source": [
    "# The amount of samples to use from the dataset\n",
    "n_samples = 1000\n",
    "\n",
    "# The minimum amount of samples required for a split\n",
    "min_split = 24\n",
    "\n",
    "# The maximum depth of any given decision tree\n",
    "max_depth = 24"
   ]
  },
  {
   "cell_type": "markdown",
   "metadata": {},
   "source": [
    "# Load the data"
   ]
  },
  {
   "cell_type": "code",
   "execution_count": 59,
   "metadata": {},
   "outputs": [
    {
     "data": {
      "text/html": [
       "<div>\n",
       "<style scoped>\n",
       "    .dataframe tbody tr th:only-of-type {\n",
       "        vertical-align: middle;\n",
       "    }\n",
       "\n",
       "    .dataframe tbody tr th {\n",
       "        vertical-align: top;\n",
       "    }\n",
       "\n",
       "    .dataframe thead th {\n",
       "        text-align: right;\n",
       "    }\n",
       "</style>\n",
       "<table border=\"1\" class=\"dataframe\">\n",
       "  <thead>\n",
       "    <tr style=\"text-align: right;\">\n",
       "      <th></th>\n",
       "      <th>case REG_DATE</th>\n",
       "      <th>event lifecycle:transition</th>\n",
       "      <th>event time:timestamp</th>\n",
       "      <th>event concept:name</th>\n",
       "    </tr>\n",
       "    <tr>\n",
       "      <th>eventID</th>\n",
       "      <th></th>\n",
       "      <th></th>\n",
       "      <th></th>\n",
       "      <th></th>\n",
       "    </tr>\n",
       "  </thead>\n",
       "  <tbody>\n",
       "    <tr>\n",
       "      <th>0</th>\n",
       "      <td>2011-10-01T01:38:44.546+03:00</td>\n",
       "      <td>COMPLETE</td>\n",
       "      <td>2011-01-10 01:38:44.546</td>\n",
       "      <td>A_SUBMITTED</td>\n",
       "    </tr>\n",
       "    <tr>\n",
       "      <th>1</th>\n",
       "      <td>2011-10-01T01:38:44.546+03:00</td>\n",
       "      <td>COMPLETE</td>\n",
       "      <td>2011-01-10 01:38:44.880</td>\n",
       "      <td>A_PARTLYSUBMITTED</td>\n",
       "    </tr>\n",
       "    <tr>\n",
       "      <th>2</th>\n",
       "      <td>2011-10-01T01:38:44.546+03:00</td>\n",
       "      <td>COMPLETE</td>\n",
       "      <td>2011-01-10 01:39:37.906</td>\n",
       "      <td>A_PREACCEPTED</td>\n",
       "    </tr>\n",
       "    <tr>\n",
       "      <th>3</th>\n",
       "      <td>2011-10-01T01:38:44.546+03:00</td>\n",
       "      <td>SCHEDULE</td>\n",
       "      <td>2011-01-10 01:39:38.875</td>\n",
       "      <td>W_Completeren aanvraag</td>\n",
       "    </tr>\n",
       "    <tr>\n",
       "      <th>4294967296</th>\n",
       "      <td>2011-10-01T09:08:58.256+03:00</td>\n",
       "      <td>COMPLETE</td>\n",
       "      <td>2011-01-10 09:08:58.256</td>\n",
       "      <td>A_SUBMITTED</td>\n",
       "    </tr>\n",
       "  </tbody>\n",
       "</table>\n",
       "</div>"
      ],
      "text/plain": [
       "                            case REG_DATE  ...      event concept:name\n",
       "eventID                                    ...                        \n",
       "0           2011-10-01T01:38:44.546+03:00  ...             A_SUBMITTED\n",
       "1           2011-10-01T01:38:44.546+03:00  ...       A_PARTLYSUBMITTED\n",
       "2           2011-10-01T01:38:44.546+03:00  ...           A_PREACCEPTED\n",
       "3           2011-10-01T01:38:44.546+03:00  ...  W_Completeren aanvraag\n",
       "4294967296  2011-10-01T09:08:58.256+03:00  ...             A_SUBMITTED\n",
       "\n",
       "[5 rows x 4 columns]"
      ]
     },
     "execution_count": 59,
     "metadata": {},
     "output_type": "execute_result"
    }
   ],
   "source": [
    "# Times (unloaded)\n",
    "# 1.000 : 4 seconds (30%)\n",
    "# 1.500 : 10 seconds (34%)\n",
    "# 2.000 : 13 seconds (39%)\n",
    "# 3.000 : 30 seconds (40%)\n",
    "# 10.000 : 6 minutes (38%)\n",
    "\n",
    "df_train = pd.read_csv('../bpi_2012_train.csv')\n",
    "df_train = df_train[['eventID ', 'case REG_DATE', 'event lifecycle:transition', 'event time:timestamp', 'event concept:name']].set_index('eventID ')[0:n_samples]\n",
    "\n",
    "df_train.head()"
   ]
  },
  {
   "cell_type": "markdown",
   "metadata": {},
   "source": [
    "# Classification\n",
    "\n",
    "### Pre-processing and splitting the training and testing data\n",
    "\n",
    "As far as I'm aware, this step has already been performed by Nik. For now however, I'll attempt to reproduce the same split as programmed by my source of inspiration for the Decision Tree Classifier model to check whether it works."
   ]
  },
  {
   "cell_type": "code",
   "execution_count": 60,
   "metadata": {},
   "outputs": [
    {
     "data": {
      "text/html": [
       "<div>\n",
       "<style scoped>\n",
       "    .dataframe tbody tr th:only-of-type {\n",
       "        vertical-align: middle;\n",
       "    }\n",
       "\n",
       "    .dataframe tbody tr th {\n",
       "        vertical-align: top;\n",
       "    }\n",
       "\n",
       "    .dataframe thead th {\n",
       "        text-align: right;\n",
       "    }\n",
       "</style>\n",
       "<table border=\"1\" class=\"dataframe\">\n",
       "  <thead>\n",
       "    <tr style=\"text-align: right;\">\n",
       "      <th></th>\n",
       "      <th>0</th>\n",
       "    </tr>\n",
       "  </thead>\n",
       "  <tbody>\n",
       "    <tr>\n",
       "      <th>0</th>\n",
       "      <td>A_SUBMITTED</td>\n",
       "    </tr>\n",
       "    <tr>\n",
       "      <th>1</th>\n",
       "      <td>A_PARTLYSUBMITTED</td>\n",
       "    </tr>\n",
       "    <tr>\n",
       "      <th>2</th>\n",
       "      <td>A_PREACCEPTED</td>\n",
       "    </tr>\n",
       "    <tr>\n",
       "      <th>3</th>\n",
       "      <td>W_Completeren aanvraag</td>\n",
       "    </tr>\n",
       "    <tr>\n",
       "      <th>4</th>\n",
       "      <td>A_SUBMITTED</td>\n",
       "    </tr>\n",
       "    <tr>\n",
       "      <th>5</th>\n",
       "      <td>A_PARTLYSUBMITTED</td>\n",
       "    </tr>\n",
       "    <tr>\n",
       "      <th>6</th>\n",
       "      <td>A_PREACCEPTED</td>\n",
       "    </tr>\n",
       "    <tr>\n",
       "      <th>7</th>\n",
       "      <td>W_Completeren aanvraag</td>\n",
       "    </tr>\n",
       "    <tr>\n",
       "      <th>8</th>\n",
       "      <td>A_SUBMITTED</td>\n",
       "    </tr>\n",
       "    <tr>\n",
       "      <th>9</th>\n",
       "      <td>A_PARTLYSUBMITTED</td>\n",
       "    </tr>\n",
       "  </tbody>\n",
       "</table>\n",
       "</div>"
      ],
      "text/plain": [
       "                        0\n",
       "0             A_SUBMITTED\n",
       "1       A_PARTLYSUBMITTED\n",
       "2           A_PREACCEPTED\n",
       "3  W_Completeren aanvraag\n",
       "4             A_SUBMITTED\n",
       "5       A_PARTLYSUBMITTED\n",
       "6           A_PREACCEPTED\n",
       "7  W_Completeren aanvraag\n",
       "8             A_SUBMITTED\n",
       "9       A_PARTLYSUBMITTED"
      ]
     },
     "execution_count": 60,
     "metadata": {},
     "output_type": "execute_result"
    }
   ],
   "source": [
    "from sklearn.model_selection import train_test_split\n",
    "\n",
    "X = df_train.iloc[:, :-1].values # The original values without the target variable\n",
    "Y = df_train.iloc[:, -1].values.reshape(-1, 1) # Turn the target variable into a single-column array of arrays\n",
    "\n",
    "X_train, X_test, Y_train, Y_test = train_test_split(X, Y, test_size=.2, random_state=41)\n",
    "\n",
    "pd.DataFrame(X).head(20)\n",
    "pd.DataFrame(Y).head(10)"
   ]
  },
  {
   "cell_type": "markdown",
   "metadata": {},
   "source": [
    "### Fitting the model"
   ]
  },
  {
   "cell_type": "code",
   "execution_count": 61,
   "metadata": {},
   "outputs": [],
   "source": [
    "classifier = DecisionTreeClassifier(min_samples_split=min_split, max_depth=max_depth)\n",
    "classifier.fit(X_train, Y_train)\n",
    "#classifier.print_tree()"
   ]
  },
  {
   "cell_type": "markdown",
   "metadata": {},
   "source": [
    "### Prediction and analysis"
   ]
  },
  {
   "cell_type": "code",
   "execution_count": 62,
   "metadata": {},
   "outputs": [
    {
     "data": {
      "text/plain": [
       "0.325"
      ]
     },
     "execution_count": 62,
     "metadata": {},
     "output_type": "execute_result"
    }
   ],
   "source": [
    "from sklearn.metrics import accuracy_score\n",
    "\n",
    "Y_pred = classifier.predict(X_test)\n",
    "accuracy_score(Y_test, Y_pred)"
   ]
  },
  {
   "cell_type": "markdown",
   "metadata": {},
   "source": [
    "# Classification\n",
    "\n",
    "### Pre-processing and splitting the training and testing data"
   ]
  },
  {
   "cell_type": "code",
   "execution_count": 65,
   "metadata": {},
   "outputs": [
    {
     "data": {
      "text/html": [
       "<div>\n",
       "<style scoped>\n",
       "    .dataframe tbody tr th:only-of-type {\n",
       "        vertical-align: middle;\n",
       "    }\n",
       "\n",
       "    .dataframe tbody tr th {\n",
       "        vertical-align: top;\n",
       "    }\n",
       "\n",
       "    .dataframe thead th {\n",
       "        text-align: right;\n",
       "    }\n",
       "</style>\n",
       "<table border=\"1\" class=\"dataframe\">\n",
       "  <thead>\n",
       "    <tr style=\"text-align: right;\">\n",
       "      <th></th>\n",
       "      <th>0</th>\n",
       "    </tr>\n",
       "  </thead>\n",
       "  <tbody>\n",
       "    <tr>\n",
       "      <th>0</th>\n",
       "      <td>A_SUBMITTED</td>\n",
       "    </tr>\n",
       "    <tr>\n",
       "      <th>1</th>\n",
       "      <td>A_PARTLYSUBMITTED</td>\n",
       "    </tr>\n",
       "    <tr>\n",
       "      <th>2</th>\n",
       "      <td>A_PREACCEPTED</td>\n",
       "    </tr>\n",
       "    <tr>\n",
       "      <th>3</th>\n",
       "      <td>W_Completeren aanvraag</td>\n",
       "    </tr>\n",
       "    <tr>\n",
       "      <th>4</th>\n",
       "      <td>A_SUBMITTED</td>\n",
       "    </tr>\n",
       "    <tr>\n",
       "      <th>5</th>\n",
       "      <td>A_PARTLYSUBMITTED</td>\n",
       "    </tr>\n",
       "    <tr>\n",
       "      <th>6</th>\n",
       "      <td>A_PREACCEPTED</td>\n",
       "    </tr>\n",
       "    <tr>\n",
       "      <th>7</th>\n",
       "      <td>W_Completeren aanvraag</td>\n",
       "    </tr>\n",
       "    <tr>\n",
       "      <th>8</th>\n",
       "      <td>A_SUBMITTED</td>\n",
       "    </tr>\n",
       "    <tr>\n",
       "      <th>9</th>\n",
       "      <td>A_PARTLYSUBMITTED</td>\n",
       "    </tr>\n",
       "  </tbody>\n",
       "</table>\n",
       "</div>"
      ],
      "text/plain": [
       "                        0\n",
       "0             A_SUBMITTED\n",
       "1       A_PARTLYSUBMITTED\n",
       "2           A_PREACCEPTED\n",
       "3  W_Completeren aanvraag\n",
       "4             A_SUBMITTED\n",
       "5       A_PARTLYSUBMITTED\n",
       "6           A_PREACCEPTED\n",
       "7  W_Completeren aanvraag\n",
       "8             A_SUBMITTED\n",
       "9       A_PARTLYSUBMITTED"
      ]
     },
     "execution_count": 65,
     "metadata": {},
     "output_type": "execute_result"
    }
   ],
   "source": [
    "df_train['case REG_DATE'] = pd.to_datetime(df_train['case REG_DATE'], utc=True)\n",
    "df_train['event time:timestamp'] = pd.to_datetime(df_train['event time:timestamp'], utc=True)\n",
    "\n",
    "df_train['case_reg_date_ts'] = df_train['case REG_DATE'].values.astype(np.int64) // 10 ** 9\n",
    "df_train['event_timestamp_ts'] = df_train['event time:timestamp'].values.astype(np.int64) // 10 ** 9\n",
    "\n",
    "\n",
    "from sklearn.model_selection import train_test_split\n",
    "\n",
    "X = df_train[['case_reg_date_ts', 'event_timestamp_ts', 'event concept:name']].iloc[:, :-1].values # The original values without the target variable\n",
    "Y = df_train[['case_reg_date_ts', 'event_timestamp_ts', 'event concept:name']].iloc[:, -1].values.reshape(-1, 1) # Turn the target variable into a single-column array of arrays\n",
    "\n",
    "X_train, X_test, Y_train, Y_test = train_test_split(X, Y, test_size=.2, random_state=41)\n",
    "\n",
    "pd.DataFrame(X).head(20)\n",
    "pd.DataFrame(Y).head(10)\n",
    "\n",
    "# Wait, what are we doing here? We're predicting a time, based on the time itself? Since I want all columns to be numerical, only time data is allowed..."
   ]
  },
  {
   "cell_type": "code",
   "execution_count": null,
   "metadata": {},
   "outputs": [],
   "source": [
    "classifier = DecisionTreeRegressor(min_samples_split=min_split, max_depth=max_depth)\n",
    "classifier.fit(X_train, Y_train)\n",
    "classifier.print_tree()"
   ]
  },
  {
   "cell_type": "code",
   "execution_count": null,
   "metadata": {},
   "outputs": [],
   "source": [
    "from sklearn.metrics import accuracy_score\n",
    "\n",
    "Y_pred = classifier.predict(X_test)\n",
    "accuracy_score(Y_test, Y_pred)"
   ]
  }
 ],
 "metadata": {
  "interpreter": {
   "hash": "8cd96dd5a19042d485147936bebb55dd08be535fb14c9f4b0ea4a80480301182"
  },
  "kernelspec": {
   "display_name": "Python 3.9.0 64-bit",
   "language": "python",
   "name": "python3"
  },
  "language_info": {
   "codemirror_mode": {
    "name": "ipython",
    "version": 3
   },
   "file_extension": ".py",
   "mimetype": "text/x-python",
   "name": "python",
   "nbconvert_exporter": "python",
   "pygments_lexer": "ipython3",
   "version": "3.9.0"
  },
  "orig_nbformat": 4
 },
 "nbformat": 4,
 "nbformat_minor": 2
}
