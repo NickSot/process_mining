{
 "cells": [
  {
   "cell_type": "markdown",
   "metadata": {},
   "source": [
    "# Sprint 4 — Naive predictor\n",
    "\n",
    "*Our naive \"baseline\" predictor model, based on trace position.*\n",
    "\n",
    "For the type prediction, the naive predictor finds the most common events at every position of the trace. When predicting an event type at position $i$, it returns the most common event for that position.\n",
    "\n",
    "For the time prediction, there are two interpretations of the baseline description.\n",
    "1. It calculates for every event the most likely next event, and returns the average time between those two event types.\n",
    "2. It checks the most common event type at the next position, and returns the average time between those two event types."
   ]
  },
  {
   "cell_type": "code",
   "execution_count": 1,
   "metadata": {},
   "outputs": [],
   "source": [
    "# Setup\n",
    "import numpy as np\n",
    "import pandas as pd\n",
    "import matplotlib.pyplot as plt\n",
    "from IPython.display import display\n",
    "\n",
    "pd.set_option('display.max_columns', None)\n",
    "pd.set_option('display.max_rows', None)\n",
    "pd.set_option('mode.chained_assignment', None)\n",
    "\n",
    "# Config variables\n",
    "training_testing_data_path = 'https://raw.githubusercontent.com/NickSot/process_mining/main/BPI_2012.csv'\n",
    "\n",
    "# Loading and splitting the datasets\n",
    "df = pd.read_csv(training_testing_data_path)\n",
    "df.rename(columns = {'event': 'concept:name', 'case':'case:concept:name'},  inplace=True)\n",
    "df.dropna(inplace=True)\n",
    "df['startTime'] = pd.to_datetime(df['startTime'])\n"
   ]
  },
  {
   "cell_type": "code",
   "execution_count": 2,
   "metadata": {},
   "outputs": [
    {
     "data": {
      "text/html": [
       "<div>\n",
       "<style scoped>\n",
       "    .dataframe tbody tr th:only-of-type {\n",
       "        vertical-align: middle;\n",
       "    }\n",
       "\n",
       "    .dataframe tbody tr th {\n",
       "        vertical-align: top;\n",
       "    }\n",
       "\n",
       "    .dataframe thead th {\n",
       "        text-align: right;\n",
       "    }\n",
       "</style>\n",
       "<table border=\"1\" class=\"dataframe\">\n",
       "  <thead>\n",
       "    <tr style=\"text-align: right;\">\n",
       "      <th></th>\n",
       "      <th>case:concept:name</th>\n",
       "      <th>concept:name</th>\n",
       "      <th>startTime</th>\n",
       "      <th>completeTime</th>\n",
       "      <th>AMOUNT_REQ</th>\n",
       "      <th>REG_DATE</th>\n",
       "      <th>org:resource</th>\n",
       "    </tr>\n",
       "  </thead>\n",
       "  <tbody>\n",
       "    <tr>\n",
       "      <th>0</th>\n",
       "      <td>173688</td>\n",
       "      <td>A_SUBMITTED</td>\n",
       "      <td>2011-10-01 00:38:44.546</td>\n",
       "      <td>2011/10/01 00:38:44.546</td>\n",
       "      <td>20000</td>\n",
       "      <td>2011/10/01 00:38:44.546</td>\n",
       "      <td>112</td>\n",
       "    </tr>\n",
       "    <tr>\n",
       "      <th>1</th>\n",
       "      <td>173688</td>\n",
       "      <td>A_PARTLYSUBMITTED</td>\n",
       "      <td>2011-10-01 00:38:44.880</td>\n",
       "      <td>2011/10/01 00:38:44.880</td>\n",
       "      <td>20000</td>\n",
       "      <td>2011/10/01 00:38:44.546</td>\n",
       "      <td>112</td>\n",
       "    </tr>\n",
       "    <tr>\n",
       "      <th>2</th>\n",
       "      <td>173688</td>\n",
       "      <td>A_PREACCEPTED</td>\n",
       "      <td>2011-10-01 00:39:37.906</td>\n",
       "      <td>2011/10/01 00:39:37.906</td>\n",
       "      <td>20000</td>\n",
       "      <td>2011/10/01 00:38:44.546</td>\n",
       "      <td>112</td>\n",
       "    </tr>\n",
       "    <tr>\n",
       "      <th>3</th>\n",
       "      <td>173688</td>\n",
       "      <td>A_PREACCEPTED</td>\n",
       "      <td>2011-10-01 00:39:37.906</td>\n",
       "      <td>2011/10/01 00:39:37.906</td>\n",
       "      <td>20000</td>\n",
       "      <td>2011/10/01 00:38:44.546</td>\n",
       "      <td>112</td>\n",
       "    </tr>\n",
       "    <tr>\n",
       "      <th>4</th>\n",
       "      <td>173688</td>\n",
       "      <td>W_Completeren aanvraag</td>\n",
       "      <td>2011-10-01 11:36:46.437</td>\n",
       "      <td>2011/10/01 11:45:13.917</td>\n",
       "      <td>20000</td>\n",
       "      <td>2011/10/01 00:38:44.546</td>\n",
       "      <td>112</td>\n",
       "    </tr>\n",
       "  </tbody>\n",
       "</table>\n",
       "</div>"
      ],
      "text/plain": [
       "   case:concept:name            concept:name               startTime  \\\n",
       "0             173688             A_SUBMITTED 2011-10-01 00:38:44.546   \n",
       "1             173688       A_PARTLYSUBMITTED 2011-10-01 00:38:44.880   \n",
       "2             173688           A_PREACCEPTED 2011-10-01 00:39:37.906   \n",
       "3             173688           A_PREACCEPTED 2011-10-01 00:39:37.906   \n",
       "4             173688  W_Completeren aanvraag 2011-10-01 11:36:46.437   \n",
       "\n",
       "              completeTime  AMOUNT_REQ                 REG_DATE  org:resource  \n",
       "0  2011/10/01 00:38:44.546       20000  2011/10/01 00:38:44.546           112  \n",
       "1  2011/10/01 00:38:44.880       20000  2011/10/01 00:38:44.546           112  \n",
       "2  2011/10/01 00:39:37.906       20000  2011/10/01 00:38:44.546           112  \n",
       "3  2011/10/01 00:39:37.906       20000  2011/10/01 00:38:44.546           112  \n",
       "4  2011/10/01 11:45:13.917       20000  2011/10/01 00:38:44.546           112  "
      ]
     },
     "execution_count": 2,
     "metadata": {},
     "output_type": "execute_result"
    }
   ],
   "source": [
    "#tTest train split on date\n",
    "slices = int(len(df)*0.3)\n",
    "dftrain = df.iloc[:slices]\n",
    "dftest = df.iloc[slices:]\n",
    "\n",
    "dftrain.head()"
   ]
  },
  {
   "cell_type": "markdown",
   "metadata": {},
   "source": [
    "# 1. Defining training functions"
   ]
  },
  {
   "cell_type": "code",
   "execution_count": 3,
   "metadata": {},
   "outputs": [],
   "source": [
    "# Get the most common next event type for the given ev_type\n",
    "# This function replaces block 10 til 15 (10: \"def nth_most_common(w, n):\", 15: \"next_common_train\")\n",
    "def get_most_common_next_type(df, ev_type):\n",
    "    # Find all rows of the given event type\n",
    "    target_rows = df[df['concept:name'] == ev_type]\n",
    "    successors = []\n",
    "    \n",
    "    # Loop over all rows of the given event type\n",
    "    for idx, row in target_rows.iterrows():\n",
    "        \n",
    "        # Only check the next row if it exists in the DF\n",
    "        if idx + 1 < len(df):\n",
    "            current_case = row['case:concept:name']\n",
    "            next_case = df.loc[df.index[idx + 1], 'case:concept:name']\n",
    "\n",
    "            # If the next event in the DF is in the same case, add the event type to the successors list\n",
    "            if current_case == next_case:\n",
    "                successors.append(df.loc[df.index[idx + 1], 'concept:name'])\n",
    "    \n",
    "    # Return the most common event type in the successors list\n",
    "    return max(set(successors), key=successors.count) if len(successors) > 0 else None\n",
    "\n",
    "\n",
    "# Get the time between events and their most common next event type\n",
    "def get_most_common_next_time(df, ev_type, next_type):\n",
    "    # Find all rows of the given event type followed by an event of type next_type\n",
    "    time_diff = []\n",
    "    for idx, row in df.iterrows():\n",
    "        if idx + 1 < len(df) and row['concept:name'] == ev_type and df.loc[df.index[idx + 1], 'concept:name'] == next_type:\n",
    "            time_diff.append((df.loc[df.index[idx + 1], 'startTime'] - row['startTime']).total_seconds())\n",
    "    \n",
    "    return np.mean(time_diff)\n"
   ]
  },
  {
   "cell_type": "markdown",
   "metadata": {},
   "source": [
    "# 2. Training model"
   ]
  },
  {
   "cell_type": "code",
   "execution_count": 4,
   "metadata": {},
   "outputs": [],
   "source": [
    "event_types = df['concept:name'].unique()\n",
    "\n",
    "most_common_next_types = {}\n",
    "for ev_type in event_types:\n",
    "    most_common_next_types[ev_type] = get_most_common_next_type(df=dftrain, ev_type=ev_type)\n"
   ]
  },
  {
   "cell_type": "code",
   "execution_count": 5,
   "metadata": {},
   "outputs": [],
   "source": [
    "most_common_next_times = {}\n",
    "for ev_type in event_types:\n",
    "    most_common_next_times[ev_type] = get_most_common_next_time(df=dftrain, ev_type=ev_type, next_type=most_common_next_types[ev_type])\n"
   ]
  },
  {
   "cell_type": "markdown",
   "metadata": {},
   "source": [
    "# 3. Making predictions"
   ]
  },
  {
   "cell_type": "code",
   "execution_count": 6,
   "metadata": {},
   "outputs": [],
   "source": [
    "from datetime import timedelta\n",
    "\n",
    "dftest['pred_next_event'] = dftest['concept:name'].map(most_common_next_types)\n",
    "dftest['pred_time_until_next'] = dftest['concept:name'].map(most_common_next_times)\n",
    "dftest['pred_time_next'] = dftest['startTime'] + pd.to_timedelta(dftest['pred_time_until_next'], unit='s')"
   ]
  },
  {
   "cell_type": "code",
   "execution_count": 7,
   "metadata": {},
   "outputs": [
    {
     "data": {
      "text/html": [
       "<div>\n",
       "<style scoped>\n",
       "    .dataframe tbody tr th:only-of-type {\n",
       "        vertical-align: middle;\n",
       "    }\n",
       "\n",
       "    .dataframe tbody tr th {\n",
       "        vertical-align: top;\n",
       "    }\n",
       "\n",
       "    .dataframe thead th {\n",
       "        text-align: right;\n",
       "    }\n",
       "</style>\n",
       "<table border=\"1\" class=\"dataframe\">\n",
       "  <thead>\n",
       "    <tr style=\"text-align: right;\">\n",
       "      <th></th>\n",
       "      <th>case:concept:name</th>\n",
       "      <th>concept:name</th>\n",
       "      <th>startTime</th>\n",
       "      <th>completeTime</th>\n",
       "      <th>AMOUNT_REQ</th>\n",
       "      <th>REG_DATE</th>\n",
       "      <th>org:resource</th>\n",
       "      <th>pred_next_event</th>\n",
       "      <th>pred_time_until_next</th>\n",
       "      <th>pred_time_next</th>\n",
       "    </tr>\n",
       "  </thead>\n",
       "  <tbody>\n",
       "    <tr>\n",
       "      <th>57248</th>\n",
       "      <td>185569</td>\n",
       "      <td>W_Completeren aanvraag</td>\n",
       "      <td>2011-11-16 10:45:05.126</td>\n",
       "      <td>2011/11/16 10:45:37.329</td>\n",
       "      <td>5500</td>\n",
       "      <td>2011/11/15 14:00:07.304</td>\n",
       "      <td>10863</td>\n",
       "      <td>W_Completeren aanvraag</td>\n",
       "      <td>96046.050694</td>\n",
       "      <td>2011-11-17 13:25:51.176694462</td>\n",
       "    </tr>\n",
       "    <tr>\n",
       "      <th>57249</th>\n",
       "      <td>185569</td>\n",
       "      <td>W_Completeren aanvraag</td>\n",
       "      <td>2011-11-16 17:10:28.861</td>\n",
       "      <td>2011/11/16 17:12:31.229</td>\n",
       "      <td>5500</td>\n",
       "      <td>2011/11/15 14:00:07.304</td>\n",
       "      <td>10861</td>\n",
       "      <td>W_Completeren aanvraag</td>\n",
       "      <td>96046.050694</td>\n",
       "      <td>2011-11-17 19:51:14.911694462</td>\n",
       "    </tr>\n",
       "    <tr>\n",
       "      <th>57250</th>\n",
       "      <td>185569</td>\n",
       "      <td>W_Completeren aanvraag</td>\n",
       "      <td>2011-11-16 17:15:53.917</td>\n",
       "      <td>2011/11/16 17:16:04.166</td>\n",
       "      <td>5500</td>\n",
       "      <td>2011/11/15 14:00:07.304</td>\n",
       "      <td>10861</td>\n",
       "      <td>W_Completeren aanvraag</td>\n",
       "      <td>96046.050694</td>\n",
       "      <td>2011-11-17 19:56:39.967694462</td>\n",
       "    </tr>\n",
       "    <tr>\n",
       "      <th>57251</th>\n",
       "      <td>185569</td>\n",
       "      <td>W_Completeren aanvraag</td>\n",
       "      <td>2011-11-17 19:08:40.208</td>\n",
       "      <td>2011/11/17 19:09:06.001</td>\n",
       "      <td>5500</td>\n",
       "      <td>2011/11/15 14:00:07.304</td>\n",
       "      <td>11180</td>\n",
       "      <td>W_Completeren aanvraag</td>\n",
       "      <td>96046.050694</td>\n",
       "      <td>2011-11-18 21:49:26.258694462</td>\n",
       "    </tr>\n",
       "    <tr>\n",
       "      <th>57252</th>\n",
       "      <td>185569</td>\n",
       "      <td>W_Completeren aanvraag</td>\n",
       "      <td>2011-11-18 19:33:42.674</td>\n",
       "      <td>2011/11/18 19:34:46.701</td>\n",
       "      <td>5500</td>\n",
       "      <td>2011/11/15 14:00:07.304</td>\n",
       "      <td>11201</td>\n",
       "      <td>W_Completeren aanvraag</td>\n",
       "      <td>96046.050694</td>\n",
       "      <td>2011-11-19 22:14:28.724694462</td>\n",
       "    </tr>\n",
       "  </tbody>\n",
       "</table>\n",
       "</div>"
      ],
      "text/plain": [
       "       case:concept:name            concept:name               startTime  \\\n",
       "57248             185569  W_Completeren aanvraag 2011-11-16 10:45:05.126   \n",
       "57249             185569  W_Completeren aanvraag 2011-11-16 17:10:28.861   \n",
       "57250             185569  W_Completeren aanvraag 2011-11-16 17:15:53.917   \n",
       "57251             185569  W_Completeren aanvraag 2011-11-17 19:08:40.208   \n",
       "57252             185569  W_Completeren aanvraag 2011-11-18 19:33:42.674   \n",
       "\n",
       "                  completeTime  AMOUNT_REQ                 REG_DATE  \\\n",
       "57248  2011/11/16 10:45:37.329        5500  2011/11/15 14:00:07.304   \n",
       "57249  2011/11/16 17:12:31.229        5500  2011/11/15 14:00:07.304   \n",
       "57250  2011/11/16 17:16:04.166        5500  2011/11/15 14:00:07.304   \n",
       "57251  2011/11/17 19:09:06.001        5500  2011/11/15 14:00:07.304   \n",
       "57252  2011/11/18 19:34:46.701        5500  2011/11/15 14:00:07.304   \n",
       "\n",
       "       org:resource         pred_next_event  pred_time_until_next  \\\n",
       "57248         10863  W_Completeren aanvraag          96046.050694   \n",
       "57249         10861  W_Completeren aanvraag          96046.050694   \n",
       "57250         10861  W_Completeren aanvraag          96046.050694   \n",
       "57251         11180  W_Completeren aanvraag          96046.050694   \n",
       "57252         11201  W_Completeren aanvraag          96046.050694   \n",
       "\n",
       "                     pred_time_next  \n",
       "57248 2011-11-17 13:25:51.176694462  \n",
       "57249 2011-11-17 19:51:14.911694462  \n",
       "57250 2011-11-17 19:56:39.967694462  \n",
       "57251 2011-11-18 21:49:26.258694462  \n",
       "57252 2011-11-19 22:14:28.724694462  "
      ]
     },
     "execution_count": 7,
     "metadata": {},
     "output_type": "execute_result"
    }
   ],
   "source": [
    "dftest.head()"
   ]
  },
  {
   "cell_type": "markdown",
   "metadata": {},
   "source": [
    "# 4. Checking accuracy metrics"
   ]
  },
  {
   "cell_type": "code",
   "execution_count": 8,
   "metadata": {},
   "outputs": [
    {
     "name": "stdout",
     "output_type": "stream",
     "text": [
      "Event type prediction accuracy: 75228 correct / 124302 total = 60.52034560988561%\n"
     ]
    }
   ],
   "source": [
    "# Finding the correct next event for accuracy calculation purposes\n",
    "dftest['next_event'] = dftest['concept:name'].shift(-1)\n",
    "dftest['next_case'] = dftest['case:concept:name'].shift(-1)\n",
    "\n",
    "# Select correctly predicted rows\n",
    "df_same_cases = dftest[dftest['case:concept:name'] == dftest['next_case']]\n",
    "df_correct = df_same_cases[df_same_cases['pred_next_event'] == df_same_cases['next_event']]\n",
    "\n",
    "accuracy = len(df_correct) / len(df_same_cases) * 100\n",
    "print(f\"Event type prediction accuracy: {len(df_correct)} correct / {len(df_same_cases)} total = {accuracy}%\")\n"
   ]
  },
  {
   "cell_type": "code",
   "execution_count": 9,
   "metadata": {},
   "outputs": [],
   "source": [
    "# Finding the correct next event for accuracy calculation purposes\n",
    "#dftest['start_time_next'] = dftest['startTime'].shift(-1)\n",
    "\n",
    "#df_time_diff = pd.DataFrame()\n",
    "#df_time_diff['diff_delta'] = pd.to_datetime(dftest['start_time_next']) - dftest['pred_time_until_next'] # x - timedelta.total_seconds()\n",
    "#df_time_diff['diff_s'] = dftest['diff_delta'].total_seconds()\n",
    "\n",
    "#df_time_diff.head()\n",
    "\n",
    "# Select correctly predicted rows\n",
    "#df_same_cases = df_test[df_test['case'] == df_test['next_case']]\n",
    "#df_correct = df_same_cases[df_same_cases['pred_next_event'] == df_same_cases['next_event']]\n",
    "\n",
    "#accuracy = len(df_correct) / len(df_same_cases) * 100\n",
    "#print(f\"Event time prediction RMSE: {len(df_correct)} / {len(df_same_cases)} = {accuracy}\")\n"
   ]
  },
  {
   "cell_type": "markdown",
   "metadata": {},
   "source": [
    "# 5. Visualizations"
   ]
  }
 ],
 "metadata": {
  "interpreter": {
   "hash": "8cd96dd5a19042d485147936bebb55dd08be535fb14c9f4b0ea4a80480301182"
  },
  "kernelspec": {
   "display_name": "Python 3.9.0 64-bit",
   "language": "python",
   "name": "python3"
  },
  "language_info": {
   "codemirror_mode": {
    "name": "ipython",
    "version": 3
   },
   "file_extension": ".py",
   "mimetype": "text/x-python",
   "name": "python",
   "nbconvert_exporter": "python",
   "pygments_lexer": "ipython3",
   "version": "3.9.0"
  },
  "orig_nbformat": 4
 },
 "nbformat": 4,
 "nbformat_minor": 2
}
