{
 "cells": [
  {
   "cell_type": "markdown",
   "metadata": {},
   "source": [
    "# Sprint 4 — Naive predictor\n",
    "\n",
    "*Our naive \"baseline\" predictor model, based on trace position.*\n",
    "\n",
    "For the type prediction, the naive predictor finds the most common events at every position of the trace. When predicting an event type at position $i$, it returns the most common event for that position.\n",
    "\n",
    "For the time prediction, there are two interpretations of the baseline description.\n",
    "1. It calculates for every event the most likely next event, and returns the average time between those two event types.\n",
    "2. It checks the most common event type at the next position, and returns the average time between those two event types."
   ]
  },
  {
   "cell_type": "code",
   "execution_count": 1,
   "metadata": {},
   "outputs": [],
   "source": [
    "# Setup\n",
    "import numpy as np\n",
    "import pandas as pd\n",
    "import matplotlib.pyplot as plt\n",
    "from IPython.display import display\n",
    "\n",
    "pd.set_option('display.max_columns', None)\n",
    "pd.set_option('display.max_rows', None)\n",
    "pd.set_option('mode.chained_assignment', None)\n",
    "\n",
    "# Config variables\n",
    "training_testing_data_path = 'https://raw.githubusercontent.com/NickSot/process_mining/main/BPI_2012.csv'\n",
    "\n",
    "# Loading and splitting the datasets\n",
    "df = pd.read_csv(training_testing_data_path)\n",
    "df.rename(columns = {'event': 'concept:name', 'case':'case:concept:name'},  inplace=True)\n",
    "df.dropna(inplace=True)\n",
    "df['startTime'] = pd.to_datetime(df['startTime'])\n"
   ]
  },
  {
   "cell_type": "code",
   "execution_count": 2,
   "metadata": {},
   "outputs": [
    {
     "data": {
      "text/html": [
       "<div>\n",
       "<style scoped>\n",
       "    .dataframe tbody tr th:only-of-type {\n",
       "        vertical-align: middle;\n",
       "    }\n",
       "\n",
       "    .dataframe tbody tr th {\n",
       "        vertical-align: top;\n",
       "    }\n",
       "\n",
       "    .dataframe thead th {\n",
       "        text-align: right;\n",
       "    }\n",
       "</style>\n",
       "<table border=\"1\" class=\"dataframe\">\n",
       "  <thead>\n",
       "    <tr style=\"text-align: right;\">\n",
       "      <th></th>\n",
       "      <th>case:concept:name</th>\n",
       "      <th>concept:name</th>\n",
       "      <th>startTime</th>\n",
       "      <th>completeTime</th>\n",
       "      <th>AMOUNT_REQ</th>\n",
       "      <th>REG_DATE</th>\n",
       "      <th>org:resource</th>\n",
       "    </tr>\n",
       "  </thead>\n",
       "  <tbody>\n",
       "    <tr>\n",
       "      <th>0</th>\n",
       "      <td>173688</td>\n",
       "      <td>A_SUBMITTED</td>\n",
       "      <td>2011-10-01 00:38:44.546</td>\n",
       "      <td>2011/10/01 00:38:44.546</td>\n",
       "      <td>20000</td>\n",
       "      <td>2011/10/01 00:38:44.546</td>\n",
       "      <td>112</td>\n",
       "    </tr>\n",
       "    <tr>\n",
       "      <th>1</th>\n",
       "      <td>173688</td>\n",
       "      <td>A_PARTLYSUBMITTED</td>\n",
       "      <td>2011-10-01 00:38:44.880</td>\n",
       "      <td>2011/10/01 00:38:44.880</td>\n",
       "      <td>20000</td>\n",
       "      <td>2011/10/01 00:38:44.546</td>\n",
       "      <td>112</td>\n",
       "    </tr>\n",
       "    <tr>\n",
       "      <th>2</th>\n",
       "      <td>173688</td>\n",
       "      <td>A_PREACCEPTED</td>\n",
       "      <td>2011-10-01 00:39:37.906</td>\n",
       "      <td>2011/10/01 00:39:37.906</td>\n",
       "      <td>20000</td>\n",
       "      <td>2011/10/01 00:38:44.546</td>\n",
       "      <td>112</td>\n",
       "    </tr>\n",
       "    <tr>\n",
       "      <th>3</th>\n",
       "      <td>173688</td>\n",
       "      <td>A_PREACCEPTED</td>\n",
       "      <td>2011-10-01 00:39:37.906</td>\n",
       "      <td>2011/10/01 00:39:37.906</td>\n",
       "      <td>20000</td>\n",
       "      <td>2011/10/01 00:38:44.546</td>\n",
       "      <td>112</td>\n",
       "    </tr>\n",
       "    <tr>\n",
       "      <th>4</th>\n",
       "      <td>173688</td>\n",
       "      <td>W_Completeren aanvraag</td>\n",
       "      <td>2011-10-01 11:36:46.437</td>\n",
       "      <td>2011/10/01 11:45:13.917</td>\n",
       "      <td>20000</td>\n",
       "      <td>2011/10/01 00:38:44.546</td>\n",
       "      <td>112</td>\n",
       "    </tr>\n",
       "  </tbody>\n",
       "</table>\n",
       "</div>"
      ],
      "text/plain": [
       "   case:concept:name            concept:name               startTime  \\\n",
       "0             173688             A_SUBMITTED 2011-10-01 00:38:44.546   \n",
       "1             173688       A_PARTLYSUBMITTED 2011-10-01 00:38:44.880   \n",
       "2             173688           A_PREACCEPTED 2011-10-01 00:39:37.906   \n",
       "3             173688           A_PREACCEPTED 2011-10-01 00:39:37.906   \n",
       "4             173688  W_Completeren aanvraag 2011-10-01 11:36:46.437   \n",
       "\n",
       "              completeTime  AMOUNT_REQ                 REG_DATE  org:resource  \n",
       "0  2011/10/01 00:38:44.546       20000  2011/10/01 00:38:44.546           112  \n",
       "1  2011/10/01 00:38:44.880       20000  2011/10/01 00:38:44.546           112  \n",
       "2  2011/10/01 00:39:37.906       20000  2011/10/01 00:38:44.546           112  \n",
       "3  2011/10/01 00:39:37.906       20000  2011/10/01 00:38:44.546           112  \n",
       "4  2011/10/01 11:45:13.917       20000  2011/10/01 00:38:44.546           112  "
      ]
     },
     "execution_count": 2,
     "metadata": {},
     "output_type": "execute_result"
    }
   ],
   "source": [
    "#tTest train split on date\n",
    "slices = int(len(df)*0.3)\n",
    "dftrain = df.iloc[:slices]\n",
    "dftest = df.iloc[slices:]\n",
    "\n",
    "dftrain.head()"
   ]
  },
  {
   "cell_type": "markdown",
   "metadata": {},
   "source": [
    "# 1. Defining training functions"
   ]
  },
  {
   "cell_type": "code",
   "execution_count": 3,
   "metadata": {},
   "outputs": [],
   "source": [
    "# Get the most common next event type for the given ev_type\n",
    "# This function replaces block 10 til 15 (10: \"def nth_most_common(w, n):\", 15: \"next_common_train\")\n",
    "def get_most_common_next_type(df, ev_type):\n",
    "    # Find all rows of the given event type\n",
    "    target_rows = df[df['concept:name'] == ev_type]\n",
    "    successors = []\n",
    "    \n",
    "    # Loop over all rows of the given event type\n",
    "    for idx, row in target_rows.iterrows():\n",
    "        \n",
    "        # Only check the next row if it exists in the DF\n",
    "        if idx + 1 < len(df):\n",
    "            current_case = row['case:concept:name']\n",
    "            next_case = df.loc[df.index[idx + 1], 'case:concept:name']\n",
    "\n",
    "            # If the next event in the DF is in the same case, add the event type to the successors list\n",
    "            if current_case == next_case:\n",
    "                successors.append(df.loc[df.index[idx + 1], 'concept:name'])\n",
    "    \n",
    "    # Return the most common event type in the successors list\n",
    "    return max(set(successors), key=successors.count) if len(successors) > 0 else None\n",
    "\n",
    "\n",
    "# Get the time between events and their most common next event type\n",
    "def get_most_common_next_time(df, ev_type, next_type):\n",
    "    # Find all rows of the given event type followed by an event of type next_type\n",
    "    time_diff = []\n",
    "    for idx, row in df.iterrows():\n",
    "        if idx + 1 < len(df) and row['concept:name'] == ev_type and df.loc[df.index[idx + 1], 'concept:name'] == next_type:\n",
    "            time_diff.append((df.loc[df.index[idx + 1], 'startTime'] - row['startTime']).total_seconds())\n",
    "    \n",
    "    return np.mean(time_diff)\n"
   ]
  },
  {
   "cell_type": "code",
   "execution_count": 22,
   "metadata": {},
   "outputs": [],
   "source": [
    "from collections import Counter\n",
    "\n",
    "def nth_most_common(w, n):\n",
    "    sort = dict(sorted(Counter(w).items(), key=lambda item: item[1]))\n",
    "    return str(list(sort)[-n])\n",
    "\n",
    "\n",
    "def count_freq(my_list):\n",
    " \n",
    "    # Creating an empty dictionary\n",
    "    freq = {}\n",
    "    for item in my_list:\n",
    "        if (item in freq):\n",
    "            freq[item] += 1\n",
    "        else:\n",
    "            freq[item] = 1\n",
    "    \n",
    "    return freq\n",
    "\n",
    "def get_max(df, task):\n",
    "    previous = 'blibs'\n",
    "    empty = []\n",
    "    case = 'blib'\n",
    "    for index, row in df.iterrows():\n",
    "        t = row['concept:name']\n",
    "        c = row['case:concept:name']\n",
    "        if (case == c) & (previous == task):\n",
    "            empty.append(t)\n",
    "        case = c\n",
    "        previous = t\n",
    "    \n",
    "    freq_list = count_freq(empty)\n",
    "    \n",
    "    top = nth_most_common(empty, 1)\n",
    "    print(f'List of {task}: {freq_list}')\n",
    "    print(f'Top of {task}: {top}')\n",
    "    return top\n",
    "\n",
    "\n",
    "old_caselist = list(df['concept:name'].unique())\n"
   ]
  },
  {
   "cell_type": "markdown",
   "metadata": {},
   "source": [
    "# 2. Training model"
   ]
  },
  {
   "cell_type": "code",
   "execution_count": 5,
   "metadata": {},
   "outputs": [],
   "source": [
    "event_types = df['concept:name'].unique()\n",
    "\n",
    "most_common_next_types = {}\n",
    "for ev_type in event_types:\n",
    "    most_common_next_types[ev_type] = get_most_common_next_type(df=dftrain, ev_type=ev_type)\n"
   ]
  },
  {
   "cell_type": "code",
   "execution_count": 13,
   "metadata": {},
   "outputs": [
    {
     "data": {
      "text/plain": [
       "{'A_SUBMITTED': 'A_PARTLYSUBMITTED',\n",
       " 'A_PARTLYSUBMITTED': 'A_PREACCEPTED',\n",
       " 'A_PREACCEPTED': 'A_PREACCEPTED',\n",
       " 'W_Completeren aanvraag': 'W_Completeren aanvraag',\n",
       " 'A_ACCEPTED': 'O_SELECTED',\n",
       " 'O_SELECTED': 'A_FINALIZED',\n",
       " 'A_FINALIZED': 'O_CREATED',\n",
       " 'O_CREATED': 'O_SENT',\n",
       " 'O_SENT': 'O_SENT',\n",
       " 'W_Nabellen offertes': 'W_Nabellen offertes',\n",
       " 'O_SENT_BACK': 'O_SENT_BACK',\n",
       " 'W_Valideren aanvraag': 'W_Valideren aanvraag',\n",
       " 'A_REGISTERED': 'A_ACTIVATED',\n",
       " 'A_APPROVED': 'A_ACTIVATED',\n",
       " 'O_ACCEPTED': 'A_REGISTERED',\n",
       " 'A_ACTIVATED': 'A_REGISTERED',\n",
       " 'O_CANCELLED': 'O_CREATED',\n",
       " 'A_DECLINED': 'O_DECLINED',\n",
       " 'A_CANCELLED': 'O_CANCELLED',\n",
       " 'W_Afhandelen leads': 'A_PREACCEPTED',\n",
       " 'O_DECLINED': 'A_DECLINED',\n",
       " 'W_Nabellen incomplete dossiers': 'W_Nabellen incomplete dossiers',\n",
       " 'W_Beoordelen fraude': 'W_Beoordelen fraude'}"
      ]
     },
     "execution_count": 13,
     "metadata": {},
     "output_type": "execute_result"
    }
   ],
   "source": [
    "most_common_next_types"
   ]
  },
  {
   "cell_type": "code",
   "execution_count": 5,
   "metadata": {},
   "outputs": [],
   "source": [
    "#most_common_next_times = {}\n",
    "#for ev_type in event_types:\n",
    "#    most_common_next_times[ev_type] = get_most_common_next_time(df=dftrain, ev_type=ev_type, next_type=most_common_next_types[ev_type])\n"
   ]
  },
  {
   "cell_type": "code",
   "execution_count": 23,
   "metadata": {},
   "outputs": [
    {
     "name": "stdout",
     "output_type": "stream",
     "text": [
      "List of A_SUBMITTED: {'A_PARTLYSUBMITTED': 3811}\n",
      "Top of A_SUBMITTED: A_PARTLYSUBMITTED\n",
      "List of A_PARTLYSUBMITTED: {'A_PREACCEPTED': 1490, 'A_DECLINED': 940, 'A_PARTLYSUBMITTED': 1381, 'W_Afhandelen leads': 1361, 'W_Beoordelen fraude': 20}\n",
      "Top of A_PARTLYSUBMITTED: A_PREACCEPTED\n",
      "List of A_PREACCEPTED: {'A_PREACCEPTED': 2194, 'W_Completeren aanvraag': 2194}\n",
      "Top of A_PREACCEPTED: W_Completeren aanvraag\n",
      "List of W_Completeren aanvraag: {'A_ACCEPTED': 1561, 'W_Completeren aanvraag': 4713, 'A_CANCELLED': 315, 'A_DECLINED': 323, 'W_Beoordelen fraude': 2, 'O_SELECTED': 8, 'A_FINALIZED': 5}\n",
      "Top of W_Completeren aanvraag: W_Completeren aanvraag\n",
      "List of A_ACCEPTED: {'O_SELECTED': 924, 'A_FINALIZED': 598, 'W_Completeren aanvraag': 20, 'A_CANCELLED': 15, 'A_DECLINED': 4}\n",
      "Top of A_ACCEPTED: O_SELECTED\n",
      "List of O_SELECTED: {'A_FINALIZED': 932, 'O_CREATED': 869, 'O_CANCELLED': 273}\n",
      "Top of O_SELECTED: A_FINALIZED\n"
     ]
    },
    {
     "ename": "KeyboardInterrupt",
     "evalue": "",
     "output_type": "error",
     "traceback": [
      "\u001b[1;31m---------------------------------------------------------------------------\u001b[0m",
      "\u001b[1;31mKeyboardInterrupt\u001b[0m                         Traceback (most recent call last)",
      "\u001b[1;32mc:\\Users\\20203477\\Documents\\GitHub\\process_mining\\jesse\\sprint4\\sprint_4_baseline.ipynb Cell 11'\u001b[0m in \u001b[0;36m<module>\u001b[1;34m\u001b[0m\n\u001b[0;32m      <a href='vscode-notebook-cell:/c%3A/Users/20203477/Documents/GitHub/process_mining/jesse/sprint4/sprint_4_baseline.ipynb#ch0000016?line=0'>1</a>\u001b[0m next_common_train_old \u001b[39m=\u001b[39m {}\n\u001b[0;32m      <a href='vscode-notebook-cell:/c%3A/Users/20203477/Documents/GitHub/process_mining/jesse/sprint4/sprint_4_baseline.ipynb#ch0000016?line=1'>2</a>\u001b[0m \u001b[39mfor\u001b[39;00m value \u001b[39min\u001b[39;00m old_caselist:\n\u001b[1;32m----> <a href='vscode-notebook-cell:/c%3A/Users/20203477/Documents/GitHub/process_mining/jesse/sprint4/sprint_4_baseline.ipynb#ch0000016?line=2'>3</a>\u001b[0m     next_common_train_old[value] \u001b[39m=\u001b[39m get_max(task\u001b[39m=\u001b[39;49mvalue, df\u001b[39m=\u001b[39;49mdftrain)\n\u001b[0;32m      <a href='vscode-notebook-cell:/c%3A/Users/20203477/Documents/GitHub/process_mining/jesse/sprint4/sprint_4_baseline.ipynb#ch0000016?line=4'>5</a>\u001b[0m next_common_train_old\n",
      "\u001b[1;32mc:\\Users\\20203477\\Documents\\GitHub\\process_mining\\jesse\\sprint4\\sprint_4_baseline.ipynb Cell 6'\u001b[0m in \u001b[0;36mget_max\u001b[1;34m(df, task)\u001b[0m\n\u001b[0;32m     <a href='vscode-notebook-cell:/c%3A/Users/20203477/Documents/GitHub/process_mining/jesse/sprint4/sprint_4_baseline.ipynb#ch0000015?line=21'>22</a>\u001b[0m empty \u001b[39m=\u001b[39m []\n\u001b[0;32m     <a href='vscode-notebook-cell:/c%3A/Users/20203477/Documents/GitHub/process_mining/jesse/sprint4/sprint_4_baseline.ipynb#ch0000015?line=22'>23</a>\u001b[0m case \u001b[39m=\u001b[39m \u001b[39m'\u001b[39m\u001b[39mblib\u001b[39m\u001b[39m'\u001b[39m\n\u001b[1;32m---> <a href='vscode-notebook-cell:/c%3A/Users/20203477/Documents/GitHub/process_mining/jesse/sprint4/sprint_4_baseline.ipynb#ch0000015?line=23'>24</a>\u001b[0m \u001b[39mfor\u001b[39;00m index, row \u001b[39min\u001b[39;00m df\u001b[39m.\u001b[39miterrows():\n\u001b[0;32m     <a href='vscode-notebook-cell:/c%3A/Users/20203477/Documents/GitHub/process_mining/jesse/sprint4/sprint_4_baseline.ipynb#ch0000015?line=24'>25</a>\u001b[0m     t \u001b[39m=\u001b[39m row[\u001b[39m'\u001b[39m\u001b[39mconcept:name\u001b[39m\u001b[39m'\u001b[39m]\n\u001b[0;32m     <a href='vscode-notebook-cell:/c%3A/Users/20203477/Documents/GitHub/process_mining/jesse/sprint4/sprint_4_baseline.ipynb#ch0000015?line=25'>26</a>\u001b[0m     c \u001b[39m=\u001b[39m row[\u001b[39m'\u001b[39m\u001b[39mcase:concept:name\u001b[39m\u001b[39m'\u001b[39m]\n",
      "File \u001b[1;32m~\\AppData\\Local\\Programs\\Python\\Python39\\lib\\site-packages\\pandas\\core\\frame.py:1325\u001b[0m, in \u001b[0;36mDataFrame.iterrows\u001b[1;34m(self)\u001b[0m\n\u001b[0;32m   <a href='file:///c%3A/Users/20203477/AppData/Local/Programs/Python/Python39/lib/site-packages/pandas/core/frame.py?line=1322'>1323</a>\u001b[0m klass \u001b[39m=\u001b[39m \u001b[39mself\u001b[39m\u001b[39m.\u001b[39m_constructor_sliced\n\u001b[0;32m   <a href='file:///c%3A/Users/20203477/AppData/Local/Programs/Python/Python39/lib/site-packages/pandas/core/frame.py?line=1323'>1324</a>\u001b[0m \u001b[39mfor\u001b[39;00m k, v \u001b[39min\u001b[39;00m \u001b[39mzip\u001b[39m(\u001b[39mself\u001b[39m\u001b[39m.\u001b[39mindex, \u001b[39mself\u001b[39m\u001b[39m.\u001b[39mvalues):\n\u001b[1;32m-> <a href='file:///c%3A/Users/20203477/AppData/Local/Programs/Python/Python39/lib/site-packages/pandas/core/frame.py?line=1324'>1325</a>\u001b[0m     s \u001b[39m=\u001b[39m klass(v, index\u001b[39m=\u001b[39;49mcolumns, name\u001b[39m=\u001b[39;49mk)\n\u001b[0;32m   <a href='file:///c%3A/Users/20203477/AppData/Local/Programs/Python/Python39/lib/site-packages/pandas/core/frame.py?line=1325'>1326</a>\u001b[0m     \u001b[39myield\u001b[39;00m k, s\n",
      "File \u001b[1;32m~\\AppData\\Local\\Programs\\Python\\Python39\\lib\\site-packages\\pandas\\core\\series.py:461\u001b[0m, in \u001b[0;36mSeries.__init__\u001b[1;34m(self, data, index, dtype, name, copy, fastpath)\u001b[0m\n\u001b[0;32m    <a href='file:///c%3A/Users/20203477/AppData/Local/Programs/Python/Python39/lib/site-packages/pandas/core/series.py?line=457'>458</a>\u001b[0m             data \u001b[39m=\u001b[39m SingleArrayManager\u001b[39m.\u001b[39mfrom_array(data, index)\n\u001b[0;32m    <a href='file:///c%3A/Users/20203477/AppData/Local/Programs/Python/Python39/lib/site-packages/pandas/core/series.py?line=459'>460</a>\u001b[0m NDFrame\u001b[39m.\u001b[39m\u001b[39m__init__\u001b[39m(\u001b[39mself\u001b[39m, data)\n\u001b[1;32m--> <a href='file:///c%3A/Users/20203477/AppData/Local/Programs/Python/Python39/lib/site-packages/pandas/core/series.py?line=460'>461</a>\u001b[0m \u001b[39mself\u001b[39m\u001b[39m.\u001b[39mname \u001b[39m=\u001b[39m name\n\u001b[0;32m    <a href='file:///c%3A/Users/20203477/AppData/Local/Programs/Python/Python39/lib/site-packages/pandas/core/series.py?line=461'>462</a>\u001b[0m \u001b[39mself\u001b[39m\u001b[39m.\u001b[39m_set_axis(\u001b[39m0\u001b[39m, index, fastpath\u001b[39m=\u001b[39m\u001b[39mTrue\u001b[39;00m)\n",
      "File \u001b[1;32m~\\AppData\\Local\\Programs\\Python\\Python39\\lib\\site-packages\\pandas\\core\\generic.py:5605\u001b[0m, in \u001b[0;36mNDFrame.__setattr__\u001b[1;34m(self, name, value)\u001b[0m\n\u001b[0;32m   <a href='file:///c%3A/Users/20203477/AppData/Local/Programs/Python/Python39/lib/site-packages/pandas/core/generic.py?line=5602'>5603</a>\u001b[0m     \u001b[39mobject\u001b[39m\u001b[39m.\u001b[39m\u001b[39m__setattr__\u001b[39m(\u001b[39mself\u001b[39m, name, value)\n\u001b[0;32m   <a href='file:///c%3A/Users/20203477/AppData/Local/Programs/Python/Python39/lib/site-packages/pandas/core/generic.py?line=5603'>5604</a>\u001b[0m \u001b[39melif\u001b[39;00m name \u001b[39min\u001b[39;00m \u001b[39mself\u001b[39m\u001b[39m.\u001b[39m_metadata:\n\u001b[1;32m-> <a href='file:///c%3A/Users/20203477/AppData/Local/Programs/Python/Python39/lib/site-packages/pandas/core/generic.py?line=5604'>5605</a>\u001b[0m     \u001b[39mobject\u001b[39;49m\u001b[39m.\u001b[39;49m\u001b[39m__setattr__\u001b[39;49m(\u001b[39mself\u001b[39;49m, name, value)\n\u001b[0;32m   <a href='file:///c%3A/Users/20203477/AppData/Local/Programs/Python/Python39/lib/site-packages/pandas/core/generic.py?line=5605'>5606</a>\u001b[0m \u001b[39melse\u001b[39;00m:\n\u001b[0;32m   <a href='file:///c%3A/Users/20203477/AppData/Local/Programs/Python/Python39/lib/site-packages/pandas/core/generic.py?line=5606'>5607</a>\u001b[0m     \u001b[39mtry\u001b[39;00m:\n",
      "File \u001b[1;32m~\\AppData\\Local\\Programs\\Python\\Python39\\lib\\site-packages\\pandas\\core\\series.py:643\u001b[0m, in \u001b[0;36mSeries.name\u001b[1;34m(self, value)\u001b[0m\n\u001b[0;32m    <a href='file:///c%3A/Users/20203477/AppData/Local/Programs/Python/Python39/lib/site-packages/pandas/core/series.py?line=640'>641</a>\u001b[0m \u001b[39m@name\u001b[39m\u001b[39m.\u001b[39msetter\n\u001b[0;32m    <a href='file:///c%3A/Users/20203477/AppData/Local/Programs/Python/Python39/lib/site-packages/pandas/core/series.py?line=641'>642</a>\u001b[0m \u001b[39mdef\u001b[39;00m \u001b[39mname\u001b[39m(\u001b[39mself\u001b[39m, value: Hashable) \u001b[39m-\u001b[39m\u001b[39m>\u001b[39m \u001b[39mNone\u001b[39;00m:\n\u001b[1;32m--> <a href='file:///c%3A/Users/20203477/AppData/Local/Programs/Python/Python39/lib/site-packages/pandas/core/series.py?line=642'>643</a>\u001b[0m     validate_all_hashable(value, error_name\u001b[39m=\u001b[39;49m\u001b[39mf\u001b[39;49m\u001b[39m\"\u001b[39;49m\u001b[39m{\u001b[39;49;00m\u001b[39mtype\u001b[39;49m(\u001b[39mself\u001b[39;49m)\u001b[39m.\u001b[39;49m\u001b[39m__name__\u001b[39;49m\u001b[39m}\u001b[39;49;00m\u001b[39m.name\u001b[39;49m\u001b[39m\"\u001b[39;49m)\n\u001b[0;32m    <a href='file:///c%3A/Users/20203477/AppData/Local/Programs/Python/Python39/lib/site-packages/pandas/core/series.py?line=643'>644</a>\u001b[0m     \u001b[39mobject\u001b[39m\u001b[39m.\u001b[39m\u001b[39m__setattr__\u001b[39m(\u001b[39mself\u001b[39m, \u001b[39m\"\u001b[39m\u001b[39m_name\u001b[39m\u001b[39m\"\u001b[39m, value)\n",
      "File \u001b[1;32m~\\AppData\\Local\\Programs\\Python\\Python39\\lib\\site-packages\\pandas\\core\\dtypes\\common.py:1740\u001b[0m, in \u001b[0;36mvalidate_all_hashable\u001b[1;34m(error_name, *args)\u001b[0m\n\u001b[0;32m   <a href='file:///c%3A/Users/20203477/AppData/Local/Programs/Python/Python39/lib/site-packages/pandas/core/dtypes/common.py?line=1720'>1721</a>\u001b[0m \u001b[39mdef\u001b[39;00m \u001b[39mvalidate_all_hashable\u001b[39m(\u001b[39m*\u001b[39margs, error_name: \u001b[39mstr\u001b[39m \u001b[39m|\u001b[39m \u001b[39mNone\u001b[39;00m \u001b[39m=\u001b[39m \u001b[39mNone\u001b[39;00m) \u001b[39m-\u001b[39m\u001b[39m>\u001b[39m \u001b[39mNone\u001b[39;00m:\n\u001b[0;32m   <a href='file:///c%3A/Users/20203477/AppData/Local/Programs/Python/Python39/lib/site-packages/pandas/core/dtypes/common.py?line=1721'>1722</a>\u001b[0m     \u001b[39m\"\"\"\u001b[39;00m\n\u001b[0;32m   <a href='file:///c%3A/Users/20203477/AppData/Local/Programs/Python/Python39/lib/site-packages/pandas/core/dtypes/common.py?line=1722'>1723</a>\u001b[0m \u001b[39m    Return None if all args are hashable, else raise a TypeError.\u001b[39;00m\n\u001b[0;32m   <a href='file:///c%3A/Users/20203477/AppData/Local/Programs/Python/Python39/lib/site-packages/pandas/core/dtypes/common.py?line=1723'>1724</a>\u001b[0m \n\u001b[1;32m   (...)\u001b[0m\n\u001b[0;32m   <a href='file:///c%3A/Users/20203477/AppData/Local/Programs/Python/Python39/lib/site-packages/pandas/core/dtypes/common.py?line=1737'>1738</a>\u001b[0m \u001b[39m    None\u001b[39;00m\n\u001b[0;32m   <a href='file:///c%3A/Users/20203477/AppData/Local/Programs/Python/Python39/lib/site-packages/pandas/core/dtypes/common.py?line=1738'>1739</a>\u001b[0m \u001b[39m    \"\"\"\u001b[39;00m\n\u001b[1;32m-> <a href='file:///c%3A/Users/20203477/AppData/Local/Programs/Python/Python39/lib/site-packages/pandas/core/dtypes/common.py?line=1739'>1740</a>\u001b[0m     \u001b[39mif\u001b[39;00m \u001b[39mnot\u001b[39;00m \u001b[39mall\u001b[39;49m(is_hashable(arg) \u001b[39mfor\u001b[39;00m arg \u001b[39min\u001b[39;00m args):\n\u001b[0;32m   <a href='file:///c%3A/Users/20203477/AppData/Local/Programs/Python/Python39/lib/site-packages/pandas/core/dtypes/common.py?line=1740'>1741</a>\u001b[0m         \u001b[39mif\u001b[39;00m error_name:\n\u001b[0;32m   <a href='file:///c%3A/Users/20203477/AppData/Local/Programs/Python/Python39/lib/site-packages/pandas/core/dtypes/common.py?line=1741'>1742</a>\u001b[0m             \u001b[39mraise\u001b[39;00m \u001b[39mTypeError\u001b[39;00m(\u001b[39mf\u001b[39m\u001b[39m\"\u001b[39m\u001b[39m{\u001b[39;00merror_name\u001b[39m}\u001b[39;00m\u001b[39m must be a hashable type\u001b[39m\u001b[39m\"\u001b[39m)\n",
      "\u001b[1;31mKeyboardInterrupt\u001b[0m: "
     ]
    }
   ],
   "source": [
    "next_common_train_old = {}\n",
    "for value in old_caselist:\n",
    "    next_common_train_old[value] = get_max(task=value, df=dftrain)\n",
    "\n",
    "next_common_train_old"
   ]
  },
  {
   "cell_type": "markdown",
   "metadata": {},
   "source": [
    "# 3. Making predictions"
   ]
  },
  {
   "cell_type": "code",
   "execution_count": 7,
   "metadata": {},
   "outputs": [],
   "source": [
    "from datetime import timedelta\n",
    "\n",
    "dftest['pred_next_event'] = dftest['concept:name'].map(most_common_next_types)\n",
    "dftest['pred_next_event_old'] = dftest['concept:name'].map(next_common_train_old)\n",
    "#dftest['pred_time_until_next'] = dftest['concept:name'].map(most_common_next_times)\n",
    "#dftest['pred_time_next'] = dftest['startTime'] + pd.to_timedelta(dftest['pred_time_until_next'], unit='s')"
   ]
  },
  {
   "cell_type": "code",
   "execution_count": 24,
   "metadata": {},
   "outputs": [
    {
     "data": {
      "text/plain": [
       "array(['A_PREACCEPTED'], dtype=object)"
      ]
     },
     "execution_count": 24,
     "metadata": {},
     "output_type": "execute_result"
    }
   ],
   "source": [
    "dfdiff = dftest[['pred_next_event']][dftest['pred_next_event'] != dftest['pred_next_event_old']]\n",
    "dfdiff['pred_next_event'].unique()"
   ]
  },
  {
   "cell_type": "markdown",
   "metadata": {},
   "source": [
    "# 4. Checking accuracy metrics"
   ]
  },
  {
   "cell_type": "code",
   "execution_count": 8,
   "metadata": {},
   "outputs": [
    {
     "name": "stdout",
     "output_type": "stream",
     "text": [
      "Event type prediction accuracy: 75228 correct / 124302 total = 60.52034560988561%\n"
     ]
    }
   ],
   "source": [
    "# Finding the correct next event for accuracy calculation purposes\n",
    "dftest['next_event'] = dftest['concept:name'].shift(-1)\n",
    "dftest['next_case'] = dftest['case:concept:name'].shift(-1)\n",
    "\n",
    "# Select correctly predicted rows\n",
    "df_same_cases = dftest[dftest['case:concept:name'] == dftest['next_case']]\n",
    "df_correct = df_same_cases[df_same_cases['pred_next_event'] == df_same_cases['next_event']]\n",
    "\n",
    "accuracy = len(df_correct) / len(df_same_cases) * 100\n",
    "print(f\"Event type prediction accuracy: {len(df_correct)} correct / {len(df_same_cases)} total = {accuracy}%\")\n"
   ]
  },
  {
   "cell_type": "code",
   "execution_count": 9,
   "metadata": {},
   "outputs": [],
   "source": [
    "# Finding the correct next event for accuracy calculation purposes\n",
    "#dftest['start_time_next'] = dftest['startTime'].shift(-1)\n",
    "\n",
    "#df_time_diff = pd.DataFrame()\n",
    "#df_time_diff['diff_delta'] = pd.to_datetime(dftest['start_time_next']) - dftest['pred_time_until_next'] # x - timedelta.total_seconds()\n",
    "#df_time_diff['diff_s'] = dftest['diff_delta'].total_seconds()\n",
    "\n",
    "#df_time_diff.head()\n",
    "\n",
    "# Select correctly predicted rows\n",
    "#df_same_cases = df_test[df_test['case'] == df_test['next_case']]\n",
    "#df_correct = df_same_cases[df_same_cases['pred_next_event'] == df_same_cases['next_event']]\n",
    "\n",
    "#accuracy = len(df_correct) / len(df_same_cases) * 100\n",
    "#print(f\"Event time prediction RMSE: {len(df_correct)} / {len(df_same_cases)} = {accuracy}\")\n"
   ]
  },
  {
   "cell_type": "markdown",
   "metadata": {},
   "source": [
    "# 5. Visualizations"
   ]
  }
 ],
 "metadata": {
  "interpreter": {
   "hash": "8cd96dd5a19042d485147936bebb55dd08be535fb14c9f4b0ea4a80480301182"
  },
  "kernelspec": {
   "display_name": "Python 3.9.0 64-bit",
   "language": "python",
   "name": "python3"
  },
  "language_info": {
   "codemirror_mode": {
    "name": "ipython",
    "version": 3
   },
   "file_extension": ".py",
   "mimetype": "text/x-python",
   "name": "python",
   "nbconvert_exporter": "python",
   "pygments_lexer": "ipython3",
   "version": "3.9.0"
  },
  "orig_nbformat": 4
 },
 "nbformat": 4,
 "nbformat_minor": 2
}
