{
 "cells": [
  {
   "cell_type": "code",
   "execution_count": 45,
   "metadata": {},
   "outputs": [],
   "source": [
    "import pandas as pd\n",
    "import matplotlib.pyplot as plt\n",
    "import pm4py\n",
    "import numpy as np"
   ]
  },
  {
   "cell_type": "code",
   "execution_count": 4,
   "metadata": {},
   "outputs": [
    {
     "name": "stderr",
     "output_type": "stream",
     "text": [
      "parsing log, completed traces :: 100%|██████████| 150370/150370 [00:45<00:00, 3320.82it/s]\n"
     ]
    }
   ],
   "source": [
    "# df = pd.read_xml('./Road_Traffic_Fine_Management_Process.xml', elems_only=False)\n",
    "log = pm4py.read_xes('data-nikola/Road_Traffic_Fine_Management_Process.xes.gz')\n",
    "df = pm4py.convert_to_dataframe(log)"
   ]
  },
  {
   "cell_type": "code",
   "execution_count": 109,
   "metadata": {},
   "outputs": [
    {
     "data": {
      "text/plain": [
       "['amount',\n",
       " 'org:resource',\n",
       " 'dismissal',\n",
       " 'concept:name',\n",
       " 'vehicleClass',\n",
       " 'totalPaymentAmount',\n",
       " 'lifecycle:transition',\n",
       " 'time:timestamp',\n",
       " 'article',\n",
       " 'points',\n",
       " 'case:concept:name',\n",
       " 'expense',\n",
       " 'notificationType',\n",
       " 'lastSent',\n",
       " 'paymentAmount',\n",
       " 'matricola']"
      ]
     },
     "execution_count": 109,
     "metadata": {},
     "output_type": "execute_result"
    }
   ],
   "source": [
    "df.columns.tolist()"
   ]
  },
  {
   "cell_type": "code",
   "execution_count": 5,
   "metadata": {},
   "outputs": [
    {
     "name": "stdout",
     "output_type": "stream",
     "text": [
      "DataFrame size: 561470\n",
      "DataFrame without nulls size: 0\n"
     ]
    }
   ],
   "source": [
    "print('DataFrame size: {}'.format(len(df)))\n",
    "print('DataFrame without nulls size: {}'.format(len(df.dropna())))"
   ]
  },
  {
   "cell_type": "markdown",
   "metadata": {},
   "source": [
    "Every row contains **at least one** *NaN*."
   ]
  },
  {
   "cell_type": "code",
   "execution_count": 6,
   "metadata": {},
   "outputs": [
    {
     "data": {
      "text/html": [
       "<div>\n",
       "<style scoped>\n",
       "    .dataframe tbody tr th:only-of-type {\n",
       "        vertical-align: middle;\n",
       "    }\n",
       "\n",
       "    .dataframe tbody tr th {\n",
       "        vertical-align: top;\n",
       "    }\n",
       "\n",
       "    .dataframe thead th {\n",
       "        text-align: right;\n",
       "    }\n",
       "</style>\n",
       "<table border=\"1\" class=\"dataframe\">\n",
       "  <thead>\n",
       "    <tr style=\"text-align: right;\">\n",
       "      <th></th>\n",
       "      <th>amount</th>\n",
       "      <th>totalPaymentAmount</th>\n",
       "      <th>article</th>\n",
       "      <th>points</th>\n",
       "      <th>expense</th>\n",
       "      <th>paymentAmount</th>\n",
       "      <th>matricola</th>\n",
       "    </tr>\n",
       "  </thead>\n",
       "  <tbody>\n",
       "    <tr>\n",
       "      <th>count</th>\n",
       "      <td>230230.000000</td>\n",
       "      <td>227971.000000</td>\n",
       "      <td>150370.000000</td>\n",
       "      <td>150370.000000</td>\n",
       "      <td>103987.000000</td>\n",
       "      <td>77601.000000</td>\n",
       "      <td>555.0</td>\n",
       "    </tr>\n",
       "    <tr>\n",
       "      <th>mean</th>\n",
       "      <td>63.681656</td>\n",
       "      <td>17.815604</td>\n",
       "      <td>113.246658</td>\n",
       "      <td>0.078879</td>\n",
       "      <td>11.948984</td>\n",
       "      <td>46.410027</td>\n",
       "      <td>0.0</td>\n",
       "    </tr>\n",
       "    <tr>\n",
       "      <th>std</th>\n",
       "      <td>89.677991</td>\n",
       "      <td>36.779382</td>\n",
       "      <td>68.219475</td>\n",
       "      <td>0.577687</td>\n",
       "      <td>4.023190</td>\n",
       "      <td>39.345561</td>\n",
       "      <td>0.0</td>\n",
       "    </tr>\n",
       "    <tr>\n",
       "      <th>min</th>\n",
       "      <td>0.000000</td>\n",
       "      <td>0.000000</td>\n",
       "      <td>7.000000</td>\n",
       "      <td>0.000000</td>\n",
       "      <td>0.000000</td>\n",
       "      <td>0.000000</td>\n",
       "      <td>0.0</td>\n",
       "    </tr>\n",
       "    <tr>\n",
       "      <th>25%</th>\n",
       "      <td>33.600000</td>\n",
       "      <td>0.000000</td>\n",
       "      <td>7.000000</td>\n",
       "      <td>0.000000</td>\n",
       "      <td>10.000000</td>\n",
       "      <td>33.600000</td>\n",
       "      <td>0.0</td>\n",
       "    </tr>\n",
       "    <tr>\n",
       "      <th>50%</th>\n",
       "      <td>38.000000</td>\n",
       "      <td>0.000000</td>\n",
       "      <td>157.000000</td>\n",
       "      <td>0.000000</td>\n",
       "      <td>11.880000</td>\n",
       "      <td>36.000000</td>\n",
       "      <td>0.0</td>\n",
       "    </tr>\n",
       "    <tr>\n",
       "      <th>75%</th>\n",
       "      <td>71.500000</td>\n",
       "      <td>35.000000</td>\n",
       "      <td>157.000000</td>\n",
       "      <td>0.000000</td>\n",
       "      <td>13.500000</td>\n",
       "      <td>44.670000</td>\n",
       "      <td>0.0</td>\n",
       "    </tr>\n",
       "    <tr>\n",
       "      <th>max</th>\n",
       "      <td>8000.000000</td>\n",
       "      <td>4021.000000</td>\n",
       "      <td>401.000000</td>\n",
       "      <td>10.000000</td>\n",
       "      <td>76.000000</td>\n",
       "      <td>3975.000000</td>\n",
       "      <td>0.0</td>\n",
       "    </tr>\n",
       "  </tbody>\n",
       "</table>\n",
       "</div>"
      ],
      "text/plain": [
       "              amount  totalPaymentAmount        article         points  \\\n",
       "count  230230.000000       227971.000000  150370.000000  150370.000000   \n",
       "mean       63.681656           17.815604     113.246658       0.078879   \n",
       "std        89.677991           36.779382      68.219475       0.577687   \n",
       "min         0.000000            0.000000       7.000000       0.000000   \n",
       "25%        33.600000            0.000000       7.000000       0.000000   \n",
       "50%        38.000000            0.000000     157.000000       0.000000   \n",
       "75%        71.500000           35.000000     157.000000       0.000000   \n",
       "max      8000.000000         4021.000000     401.000000      10.000000   \n",
       "\n",
       "             expense  paymentAmount  matricola  \n",
       "count  103987.000000   77601.000000      555.0  \n",
       "mean       11.948984      46.410027        0.0  \n",
       "std         4.023190      39.345561        0.0  \n",
       "min         0.000000       0.000000        0.0  \n",
       "25%        10.000000      33.600000        0.0  \n",
       "50%        11.880000      36.000000        0.0  \n",
       "75%        13.500000      44.670000        0.0  \n",
       "max        76.000000    3975.000000        0.0  "
      ]
     },
     "execution_count": 6,
     "metadata": {},
     "output_type": "execute_result"
    }
   ],
   "source": [
    "df.describe()"
   ]
  },
  {
   "cell_type": "markdown",
   "metadata": {},
   "source": [
    "std:\n",
    "- **amount** ~ 10%\n",
    "- **totalPaymentAmount** ~ 10%\n",
    "- **article** ~ 17%\n",
    "- **points** ~ 6%\n",
    "- **expense** ~ 6%\n",
    "- **paymentAmount** ~ 10%"
   ]
  },
  {
   "cell_type": "code",
   "execution_count": 7,
   "metadata": {},
   "outputs": [
    {
     "data": {
      "text/html": [
       "<div>\n",
       "<style scoped>\n",
       "    .dataframe tbody tr th:only-of-type {\n",
       "        vertical-align: middle;\n",
       "    }\n",
       "\n",
       "    .dataframe tbody tr th {\n",
       "        vertical-align: top;\n",
       "    }\n",
       "\n",
       "    .dataframe thead th {\n",
       "        text-align: right;\n",
       "    }\n",
       "</style>\n",
       "<table border=\"1\" class=\"dataframe\">\n",
       "  <thead>\n",
       "    <tr style=\"text-align: right;\">\n",
       "      <th></th>\n",
       "      <th>time:timestamp</th>\n",
       "      <th>concept:name</th>\n",
       "      <th>case:concept:name</th>\n",
       "    </tr>\n",
       "  </thead>\n",
       "  <tbody>\n",
       "    <tr>\n",
       "      <th>count</th>\n",
       "      <td>561470</td>\n",
       "      <td>561470</td>\n",
       "      <td>561470</td>\n",
       "    </tr>\n",
       "    <tr>\n",
       "      <th>unique</th>\n",
       "      <td>4905</td>\n",
       "      <td>11</td>\n",
       "      <td>150370</td>\n",
       "    </tr>\n",
       "    <tr>\n",
       "      <th>top</th>\n",
       "      <td>2002-04-10 00:00:00+02:00</td>\n",
       "      <td>Create Fine</td>\n",
       "      <td>C20817</td>\n",
       "    </tr>\n",
       "    <tr>\n",
       "      <th>freq</th>\n",
       "      <td>9197</td>\n",
       "      <td>150370</td>\n",
       "      <td>20</td>\n",
       "    </tr>\n",
       "  </tbody>\n",
       "</table>\n",
       "</div>"
      ],
      "text/plain": [
       "                   time:timestamp concept:name case:concept:name\n",
       "count                      561470       561470            561470\n",
       "unique                       4905           11            150370\n",
       "top     2002-04-10 00:00:00+02:00  Create Fine            C20817\n",
       "freq                         9197       150370                20"
      ]
     },
     "execution_count": 7,
     "metadata": {},
     "output_type": "execute_result"
    }
   ],
   "source": [
    "df_time_event = df[['time:timestamp', 'concept:name', 'case:concept:name']]\n",
    "\n",
    "df_time_event.describe()"
   ]
  },
  {
   "cell_type": "markdown",
   "metadata": {},
   "source": [
    "- Event of type **CreateFine** is most frequent\n",
    "- Trace **C20817** is largest in terms of events count\n",
    "- The date on which most events occurred is: *2002-04-10 00:00:00+02:00*"
   ]
  },
  {
   "cell_type": "code",
   "execution_count": 116,
   "metadata": {},
   "outputs": [
    {
     "data": {
      "image/png": "[encoded data removed]",
      "text/plain": [
       "<Figure size 720x504 with 1 Axes>"
      ]
     },
     "metadata": {
      "needs_background": "light"
     },
     "output_type": "display_data"
    }
   ],
   "source": [
    "counts = df_time_event.sort_values(by='concept:name', ascending=False).groupby(by='concept:name')['concept:name'].count()\n",
    "plt.title('Frequency of event types\\n', fontdict={'fontsize': 24});\n",
    "counts.plot.barh(figsize=(10, 7));"
   ]
  },
  {
   "cell_type": "code",
   "execution_count": 140,
   "metadata": {},
   "outputs": [
    {
     "data": {
      "text/html": [
       "<div>\n",
       "<style scoped>\n",
       "    .dataframe tbody tr th:only-of-type {\n",
       "        vertical-align: middle;\n",
       "    }\n",
       "\n",
       "    .dataframe tbody tr th {\n",
       "        vertical-align: top;\n",
       "    }\n",
       "\n",
       "    .dataframe thead th {\n",
       "        text-align: right;\n",
       "    }\n",
       "</style>\n",
       "<table border=\"1\" class=\"dataframe\">\n",
       "  <thead>\n",
       "    <tr style=\"text-align: right;\">\n",
       "      <th></th>\n",
       "      <th>time:timestamp</th>\n",
       "      <th>concept:name</th>\n",
       "      <th>case:concept:name</th>\n",
       "    </tr>\n",
       "  </thead>\n",
       "  <tbody>\n",
       "    <tr>\n",
       "      <th>count</th>\n",
       "      <td>20</td>\n",
       "      <td>20</td>\n",
       "      <td>20</td>\n",
       "    </tr>\n",
       "    <tr>\n",
       "      <th>unique</th>\n",
       "      <td>18</td>\n",
       "      <td>6</td>\n",
       "      <td>1</td>\n",
       "    </tr>\n",
       "    <tr>\n",
       "      <th>top</th>\n",
       "      <td>2009-06-29 00:00:00+02:00</td>\n",
       "      <td>Payment</td>\n",
       "      <td>C20817</td>\n",
       "    </tr>\n",
       "    <tr>\n",
       "      <th>freq</th>\n",
       "      <td>3</td>\n",
       "      <td>15</td>\n",
       "      <td>20</td>\n",
       "    </tr>\n",
       "  </tbody>\n",
       "</table>\n",
       "</div>"
      ],
      "text/plain": [
       "                   time:timestamp concept:name case:concept:name\n",
       "count                          20           20                20\n",
       "unique                         18            6                 1\n",
       "top     2009-06-29 00:00:00+02:00      Payment            C20817\n",
       "freq                            3           15                20"
      ]
     },
     "execution_count": 140,
     "metadata": {},
     "output_type": "execute_result"
    }
   ],
   "source": [
    "df_largest_trace = df_time_event[df_time_event['case:concept:name'] == 'C20817']\n",
    "\n",
    "df_largest_trace.describe()"
   ]
  },
  {
   "cell_type": "markdown",
   "metadata": {},
   "source": [
    "- Longest trace is 20 records long\n",
    "- 3 events occurred in at the same time\n",
    "- **Payment** is the type of event that was the most frequent in that trace"
   ]
  },
  {
   "cell_type": "code",
   "execution_count": 142,
   "metadata": {},
   "outputs": [
    {
     "data": {
      "text/plain": [
       "'Payment'"
      ]
     },
     "execution_count": 142,
     "metadata": {},
     "output_type": "execute_result"
    }
   ],
   "source": [
    "df_largest_trace.describe().reset_index().loc[2, 'concept:name']\n"
   ]
  }
 ],
 "metadata": {
  "interpreter": {
   "hash": "54e90448c27e76c7f4df0a833daefb0a1549e26c03ed83ace35a855b38633a16"
  },
  "kernelspec": {
   "display_name": "Python 3.10.2 64-bit",
   "language": "python",
   "name": "python3"
  },
  "language_info": {
   "codemirror_mode": {
    "name": "ipython",
    "version": 3
   },
   "file_extension": ".py",
   "mimetype": "text/x-python",
   "name": "python",
   "nbconvert_exporter": "python",
   "pygments_lexer": "ipython3",
   "version": "3.10.2"
  },
  "orig_nbformat": 4
 },
 "nbformat": 4,
 "nbformat_minor": 2
}
