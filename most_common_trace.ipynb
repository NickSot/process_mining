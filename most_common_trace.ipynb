{
 "cells": [
  {
   "cell_type": "code",
   "execution_count": 1,
   "metadata": {},
   "outputs": [],
   "source": [
    "import pandas as pd\n",
    "import matplotlib.pyplot as plt\n",
    "import pm4py\n",
    "import numpy as np\n",
    "import datetime\n",
    "pd.set_option(\"display.max_rows\", None)\n",
    "from collections import Counter\n",
    "import operator"
   ]
  },
  {
   "cell_type": "code",
   "execution_count": 2,
   "metadata": {},
   "outputs": [
    {
     "data": {
      "application/vnd.jupyter.widget-view+json": {
       "model_id": "8cba2c921fc743899214c502934e8632",
       "version_major": 2,
       "version_minor": 0
      },
      "text/plain": [
       "HBox(children=(HTML(value='parsing log, completed traces :: '), FloatProgress(value=0.0, max=13087.0), HTML(va…"
      ]
     },
     "metadata": {},
     "output_type": "display_data"
    },
    {
     "name": "stdout",
     "output_type": "stream",
     "text": [
      "\n"
     ]
    }
   ],
   "source": [
    "log = pm4py.read_xes('./BPI_Challenge_2012.xes.gz')\n",
    "df = pm4py.convert_to_dataframe(log)"
   ]
  },
  {
   "cell_type": "code",
   "execution_count": 3,
   "metadata": {},
   "outputs": [
    {
     "name": "stdout",
     "output_type": "stream",
     "text": [
      "DataFrame size: 262200\n",
      "DataFrame without nulls size: 244190\n"
     ]
    }
   ],
   "source": [
    "print('DataFrame size: {}'.format(len(df)))\n",
    "print('DataFrame without nulls size: {}'.format(len(df.dropna())))"
   ]
  },
  {
   "cell_type": "code",
   "execution_count": 4,
   "metadata": {
    "scrolled": true
   },
   "outputs": [
    {
     "data": {
      "text/html": [
       "<div>\n",
       "<style scoped>\n",
       "    .dataframe tbody tr th:only-of-type {\n",
       "        vertical-align: middle;\n",
       "    }\n",
       "\n",
       "    .dataframe tbody tr th {\n",
       "        vertical-align: top;\n",
       "    }\n",
       "\n",
       "    .dataframe thead th {\n",
       "        text-align: right;\n",
       "    }\n",
       "</style>\n",
       "<table border=\"1\" class=\"dataframe\">\n",
       "  <thead>\n",
       "    <tr style=\"text-align: right;\">\n",
       "      <th></th>\n",
       "      <th>org:resource</th>\n",
       "      <th>lifecycle:transition</th>\n",
       "      <th>concept:name</th>\n",
       "      <th>time:timestamp</th>\n",
       "      <th>case:REG_DATE</th>\n",
       "      <th>case:concept:name</th>\n",
       "      <th>case:AMOUNT_REQ</th>\n",
       "    </tr>\n",
       "  </thead>\n",
       "  <tbody>\n",
       "    <tr>\n",
       "      <th>count</th>\n",
       "      <td>244190</td>\n",
       "      <td>244190</td>\n",
       "      <td>244190</td>\n",
       "      <td>244190</td>\n",
       "      <td>244190</td>\n",
       "      <td>244190</td>\n",
       "      <td>244190</td>\n",
       "    </tr>\n",
       "    <tr>\n",
       "      <th>unique</th>\n",
       "      <td>68</td>\n",
       "      <td>3</td>\n",
       "      <td>24</td>\n",
       "      <td>230197</td>\n",
       "      <td>13087</td>\n",
       "      <td>13087</td>\n",
       "      <td>631</td>\n",
       "    </tr>\n",
       "    <tr>\n",
       "      <th>top</th>\n",
       "      <td>112</td>\n",
       "      <td>COMPLETE</td>\n",
       "      <td>W_Completeren aanvraag</td>\n",
       "      <td>2012-01-17 10:11:21.961000+01:00</td>\n",
       "      <td>2011-12-22 21:51:37.590000+01:00</td>\n",
       "      <td>195247</td>\n",
       "      <td>5000</td>\n",
       "    </tr>\n",
       "    <tr>\n",
       "      <th>freq</th>\n",
       "      <td>45687</td>\n",
       "      <td>156364</td>\n",
       "      <td>48372</td>\n",
       "      <td>4</td>\n",
       "      <td>168</td>\n",
       "      <td>168</td>\n",
       "      <td>30855</td>\n",
       "    </tr>\n",
       "  </tbody>\n",
       "</table>\n",
       "</div>"
      ],
      "text/plain": [
       "       org:resource lifecycle:transition            concept:name  \\\n",
       "count        244190               244190                  244190   \n",
       "unique           68                    3                      24   \n",
       "top             112             COMPLETE  W_Completeren aanvraag   \n",
       "freq          45687               156364                   48372   \n",
       "\n",
       "                          time:timestamp                     case:REG_DATE  \\\n",
       "count                             244190                            244190   \n",
       "unique                            230197                             13087   \n",
       "top     2012-01-17 10:11:21.961000+01:00  2011-12-22 21:51:37.590000+01:00   \n",
       "freq                                   4                               168   \n",
       "\n",
       "       case:concept:name case:AMOUNT_REQ  \n",
       "count             244190          244190  \n",
       "unique             13087             631  \n",
       "top               195247            5000  \n",
       "freq                 168           30855  "
      ]
     },
     "execution_count": 4,
     "metadata": {},
     "output_type": "execute_result"
    }
   ],
   "source": [
    "df.dropna(inplace=True)\n",
    "df.describe()"
   ]
  },
  {
   "cell_type": "code",
   "execution_count": 5,
   "metadata": {},
   "outputs": [
    {
     "name": "stdout",
     "output_type": "stream",
     "text": [
      "Counter({'A_SUBMITTED': 13087})\n"
     ]
    }
   ],
   "source": [
    "case = 'blib'\n",
    "first_item = []\n",
    "for index, row in df.iterrows():\n",
    "    if case != row['case:concept:name']:\n",
    "        case = row['case:concept:name']\n",
    "        task = row['concept:name']\n",
    "        first_item.append(task)\n",
    "print(Counter(first_item))"
   ]
  },
  {
   "cell_type": "code",
   "execution_count": 6,
   "metadata": {},
   "outputs": [
    {
     "data": {
      "text/plain": [
       "Counter({'A_SUBMITTED': 13087})"
      ]
     },
     "execution_count": 6,
     "metadata": {},
     "output_type": "execute_result"
    }
   ],
   "source": [
    "Counter(first_item)"
   ]
  },
  {
   "cell_type": "code",
   "execution_count": 7,
   "metadata": {},
   "outputs": [],
   "source": [
    "# def most_common(lst):\n",
    "#     return max(set(lst), key=lst.count)\n",
    "# most_common(first_item)\n",
    "def nth_most_common(w, n):\n",
    "    sort = dict(sorted(Counter(w).items(), key=lambda item: item[1]))\n",
    "    return str(list(sort)[-n])"
   ]
  },
  {
   "cell_type": "code",
   "execution_count": 8,
   "metadata": {},
   "outputs": [],
   "source": [
    "# def get_next_max(task):\n",
    "#     previous = 'blibs'\n",
    "#     empty = []\n",
    "#     case = 'blib'\n",
    "#     for index, row in df.iterrows():\n",
    "#         t = row['concept:name']\n",
    "#         c = row['case:concept:name']\n",
    "#         if (case == c) & (previous == task):\n",
    "#             empty.append(t)\n",
    "#         case = c\n",
    "#         previous = t\n",
    "#     return Counter(empty)"
   ]
  },
  {
   "cell_type": "code",
   "execution_count": 9,
   "metadata": {},
   "outputs": [],
   "source": [
    "# w = get_next_max('W_Completeren aanvraag')"
   ]
  },
  {
   "cell_type": "code",
   "execution_count": 10,
   "metadata": {},
   "outputs": [
    {
     "name": "stdout",
     "output_type": "stream",
     "text": [
      "1\n",
      "Counter({'A_PARTLYSUBMITTED': 13087})\n",
      "A_PARTLYSUBMITTED\n",
      "1\n",
      "Counter({'A_PREACCEPTED': 4852, 'W_Afhandelen leads': 4739, 'A_DECLINED': 3429, 'W_Beoordelen fraude': 67})\n",
      "A_PREACCEPTED\n",
      "1\n",
      "Counter({'W_Completeren aanvraag': 7304, 'A_ACCEPTED': 43, 'A_DECLINED': 14, 'A_CANCELLED': 6})\n",
      "W_Completeren aanvraag\n",
      "1\n",
      "2\n",
      "Counter({'W_Completeren aanvraag': 32994, 'A_ACCEPTED': 5006, 'W_Nabellen offertes': 4185, 'W_Afhandelen leads': 2177, 'A_CANCELLED': 1113, 'A_DECLINED': 1045, 'O_SENT_BACK': 64, 'O_SELECTED': 33, 'A_FINALIZED': 19, 'O_CANCELLED': 16, 'W_Beoordelen fraude': 7, 'O_DECLINED': 1})\n",
      "A_ACCEPTED\n",
      "1\n",
      "Counter({'O_SELECTED': 2881, 'A_FINALIZED': 2089, 'W_Completeren aanvraag': 69, 'A_CANCELLED': 48, 'A_DECLINED': 26})\n",
      "O_SELECTED\n",
      "1\n",
      "Counter({'O_CREATED': 3148, 'A_FINALIZED': 2907, 'O_CANCELLED': 974, 'W_Nabellen offertes': 1})\n",
      "O_CREATED\n",
      "1\n",
      "Counter({'O_SENT': 7030})\n",
      "O_SENT\n",
      "1\n",
      "Counter({'W_Nabellen offertes': 6413, 'W_Nabellen incomplete dossiers': 395, 'O_CANCELLED': 91, 'O_SELECTED': 73, 'O_SENT_BACK': 49, 'A_CANCELLED': 6, 'W_Wijzigen contractgegevens': 1, 'A_DECLINED': 1, 'W_Completeren aanvraag': 1})\n",
      "W_Nabellen offertes\n",
      "1\n",
      "2\n",
      "3\n",
      "Counter({'W_Nabellen offertes': 30310, 'W_Completeren aanvraag': 4281, 'O_SENT_BACK': 3141, 'W_Valideren aanvraag': 2858, 'O_CANCELLED': 1447, 'A_CANCELLED': 777, 'O_SELECTED': 689, 'A_DECLINED': 26, 'O_DECLINED': 20, 'O_CREATED': 1})\n",
      "O_SENT_BACK\n",
      "1\n",
      "Counter({'W_Valideren aanvraag': 3452, 'O_CANCELLED': 1, 'A_CANCELLED': 1})\n",
      "W_Valideren aanvraag\n",
      "1\n",
      "2\n",
      "Counter({'W_Valideren aanvraag': 5815, 'W_Nabellen incomplete dossiers': 5674, 'W_Nabellen offertes': 2905, 'O_ACCEPTED': 1136, 'A_APPROVED': 489, 'O_DECLINED': 348, 'A_DECLINED': 320, 'A_REGISTERED': 228, 'A_ACTIVATED': 198, 'O_CANCELLED': 111, 'O_SELECTED': 111, 'W_Beoordelen fraude': 93, 'A_CANCELLED': 12, 'W_Wijzigen contractgegevens': 4})\n",
      "W_Nabellen incomplete dossiers\n",
      "1\n",
      "2\n",
      "3\n",
      "4\n",
      "Counter({'W_Nabellen incomplete dossiers': 16763, 'W_Valideren aanvraag': 5228, 'O_SENT_BACK': 200, 'O_CANCELLED': 149, 'O_ACCEPTED': 109, 'O_SELECTED': 94, 'A_CANCELLED': 72, 'O_DECLINED': 50, 'A_APPROVED': 44, 'A_DECLINED': 36, 'A_ACTIVATED': 23, 'A_REGISTERED': 19, 'W_Wijzigen contractgegevens': 1})\n",
      "O_CANCELLED\n",
      "1\n",
      "2\n",
      "3\n",
      "Counter({'O_SELECTED': 1041, 'O_CREATED': 974, 'A_CANCELLED': 767, 'W_Nabellen offertes': 438, 'W_Nabellen incomplete dossiers': 67, 'W_Valideren aanvraag': 12})\n",
      "A_CANCELLED\n"
     ]
    },
    {
     "data": {
      "text/plain": [
       "['A_SUBMITTED',\n",
       " 'A_PARTLYSUBMITTED',\n",
       " 'A_PREACCEPTED',\n",
       " 'W_Completeren aanvraag',\n",
       " 'A_ACCEPTED',\n",
       " 'O_SELECTED',\n",
       " 'O_CREATED',\n",
       " 'O_SENT',\n",
       " 'W_Nabellen offertes',\n",
       " 'O_SENT_BACK',\n",
       " 'W_Valideren aanvraag',\n",
       " 'W_Nabellen incomplete dossiers',\n",
       " 'O_CANCELLED',\n",
       " 'A_CANCELLED']"
      ]
     },
     "execution_count": 10,
     "metadata": {},
     "output_type": "execute_result"
    }
   ],
   "source": [
    "def get_next_max(task, trace):\n",
    "    previous = 'blibs'\n",
    "    empty = []\n",
    "    case = 'blib'\n",
    "    for index, row in df.iterrows():\n",
    "        t = row['concept:name']\n",
    "        c = row['case:concept:name']\n",
    "        if (case == c) & (previous == task):\n",
    "            empty.append(t)\n",
    "        case = c\n",
    "        previous = t\n",
    "    for i in range (1,20):\n",
    "        print(i)\n",
    "        if nth_most_common(empty, i) in trace:\n",
    "            continue\n",
    "        else: \n",
    "            print(Counter(empty))\n",
    "            return nth_most_common(empty, i)\n",
    "\n",
    "def most_common_trace():\n",
    "    global trace\n",
    "    trace = ['A_SUBMITTED']\n",
    "    after = 'A_SUBMITTED'\n",
    "    for i in range (1,14):\n",
    "        after = get_next_max(after, trace=trace)\n",
    "        trace.append(after)\n",
    "        print(after)\n",
    "    return trace\n",
    "\n",
    "most_common_trace = most_common_trace()\n",
    "most_common_trace"
   ]
  }
 ],
 "metadata": {
  "interpreter": {
   "hash": "54e90448c27e76c7f4df0a833daefb0a1549e26c03ed83ace35a855b38633a16"
  },
  "kernelspec": {
   "display_name": "Python 3",
   "language": "python",
   "name": "python3"
  },
  "language_info": {
   "codemirror_mode": {
    "name": "ipython",
    "version": 3
   },
   "file_extension": ".py",
   "mimetype": "text/x-python",
   "name": "python",
   "nbconvert_exporter": "python",
   "pygments_lexer": "ipython3",
   "version": "3.8.5"
  }
 },
 "nbformat": 4,
 "nbformat_minor": 2
}
